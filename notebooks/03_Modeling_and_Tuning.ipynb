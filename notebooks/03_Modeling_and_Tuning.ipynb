{
 "cells": [
  {
   "cell_type": "code",
   "execution_count": 1,
   "metadata": {},
   "outputs": [],
   "source": [
    "import pandas as pd\n",
    "import numpy as np\n",
    "\n",
    "from sklearn.model_selection import StratifiedKFold, cross_val_score\n",
    "from sklearn.metrics import accuracy_score, precision_score, recall_score, f1_score, roc_auc_score\n",
    "\n",
    "import xgboost as xgb\n",
    "\n",
    "import optuna\n",
    "\n",
    "pd.set_option('display.max_rows', None)\n",
    "pd.set_option('display.max_columns', None)"
   ]
  },
  {
   "cell_type": "code",
   "execution_count": 2,
   "metadata": {},
   "outputs": [],
   "source": [
    "def warn(*args, **kwargs):\n",
    "    pass\n",
    "import warnings\n",
    "warnings.warn = warn"
   ]
  },
  {
   "cell_type": "markdown",
   "metadata": {},
   "source": [
    "# **FUNCTIONS**"
   ]
  },
  {
   "cell_type": "markdown",
   "metadata": {},
   "source": [
    "## **Stratified K-Fold**"
   ]
  },
  {
   "cell_type": "code",
   "execution_count": 5,
   "metadata": {},
   "outputs": [],
   "source": [
    "def StratKFold(df, features, target, n_splits, metric, model):\n",
    "    x_data = df[features]\n",
    "    y_data = df[target]\n",
    "    \n",
    "    skf = StratifiedKFold(n_splits=n_splits, shuffle=True, random_state=13)\n",
    "\n",
    "    if (metric == True):\n",
    "        metrics = {\n",
    "            'accuracy': [],\n",
    "            'precision': [],\n",
    "            'recall': [],\n",
    "            'f1': [],\n",
    "            'auc': []\n",
    "        }\n",
    "    else:\n",
    "        metrics = []\n",
    "    \n",
    "    for fold, (train_idx, val_idx) in enumerate(skf.split(x_data, y_data)):\n",
    "        \n",
    "        x_train, x_test = x_data.iloc[train_idx].copy(), x_data.iloc[val_idx].copy()\n",
    "        y_train, y_test = y_data.iloc[train_idx], y_data.iloc[val_idx]\n",
    "    \n",
    "        model.fit(x_train, y_train)\n",
    "        yhat = model.predict(x_test)\n",
    "        y_proba = model.predict_proba(x_test)[:, 1]\n",
    "\n",
    "        if (metric == True):\n",
    "            metrics['accuracy'].append(accuracy_score(y_test, yhat))\n",
    "            metrics['precision'].append(precision_score(y_test, yhat))\n",
    "            metrics['recall'].append(recall_score(y_test, yhat))\n",
    "            metrics['f1'].append(f1_score(y_test, yhat))\n",
    "            metrics['auc'].append(roc_auc_score(y_test, y_proba))\n",
    "        else:\n",
    "            metrics.append(accuracy_score(y_test, yhat))\n",
    "    \n",
    "    if (metric == True):\n",
    "        for k, v in metrics.items():\n",
    "            print(f\"{k}: {np.mean(v)}\")\n",
    "    else:\n",
    "        print(f\"Acurracy: {np.mean(metrics)}\")"
   ]
  },
  {
   "cell_type": "code",
   "execution_count": 6,
   "metadata": {},
   "outputs": [],
   "source": [
    "def StratKFold_Select(df, features, target, n_splits, model, verbose):\n",
    "    y_data = df[target]\n",
    "    \n",
    "    skf = StratifiedKFold(n_splits=n_splits, shuffle=True, random_state=13)\n",
    "\n",
    "    accuracy = 0\n",
    "\n",
    "    for i in range(len(features)):\n",
    "        f = features[0: i+1]\n",
    "        x_data = df[f]\n",
    "        acc = []\n",
    "        \n",
    "        for fold, (train_idx, val_idx) in enumerate(skf.split(x_data, y_data)):\n",
    "            \n",
    "            x_train, x_test = x_data.iloc[train_idx].copy(), x_data.iloc[val_idx].copy()\n",
    "            y_train, y_test = y_data.iloc[train_idx], y_data.iloc[val_idx]\n",
    "        \n",
    "            model.fit(x_train, y_train)\n",
    "            yhat = model.predict(x_test)\n",
    "            acc.append(accuracy_score(y_test, yhat))\n",
    "    \n",
    "        if (np.mean(acc) > accuracy):\n",
    "            features_selected = f\n",
    "            if (verbose == True):\n",
    "                print(\"Old Ac:\", accuracy, \"\\nNew Ac:\", np.mean(acc), \"\\nFeature:\", features[i], \"\\nFeatures:\", f, \"\\n\")\n",
    "            accuracy = np.mean(acc)\n",
    "\n",
    "\n",
    "    return features_selected"
   ]
  },
  {
   "cell_type": "markdown",
   "metadata": {},
   "source": [
    "# **DATASET LOADING**"
   ]
  },
  {
   "cell_type": "code",
   "execution_count": 8,
   "metadata": {},
   "outputs": [],
   "source": [
    "df = pd.read_csv(\"../data/processed/2.EDA_train.csv\")\n",
    "df_test = pd.read_csv(\"../data/processed/2.EDA_test.csv\")"
   ]
  },
  {
   "cell_type": "markdown",
   "metadata": {},
   "source": [
    "# **MODEL DEVELOPMENT AND EVALUATION**"
   ]
  },
  {
   "cell_type": "code",
   "execution_count": 10,
   "metadata": {},
   "outputs": [],
   "source": [
    "features_KFold = ['IsMale', 'Title', 'FarePerPerson', 'Age', 'Pclass', 'Fare_log', 'SibSp', 'Deck', 'Embarked', 'FamilySize', 'Stage', 'Parch', 'HasCabin',\n",
    "            'IsSingle', 'IsAgeEstimated', 'FreeFare', 'IsAlone']\n",
    "\n",
    "Features_OHE = ['Age', 'Deck', 'Embarked_C', 'Embarked_Q', 'Embarked_S', 'FamilySize', 'Fare_log', 'FarePerPerson', 'FreeFare', 'HasCabin', 'IsAgeEstimated', 'IsAlone',\n",
    "                'IsMale', 'IsSingle', 'Parch', 'Pclass_1', 'Pclass_2', 'Pclass_3', 'SibSp', 'Stage', 'Title']"
   ]
  },
  {
   "cell_type": "markdown",
   "metadata": {},
   "source": [
    "## **XGBOOST CLASSIFIER**"
   ]
  },
  {
   "cell_type": "markdown",
   "metadata": {},
   "source": [
    "### **MODEL DEVELOPMENT**"
   ]
  },
  {
   "cell_type": "markdown",
   "metadata": {},
   "source": [
    "#### **K-FOLD TARGET ENCODING**"
   ]
  },
  {
   "cell_type": "code",
   "execution_count": 14,
   "metadata": {},
   "outputs": [
    {
     "name": "stdout",
     "output_type": "stream",
     "text": [
      "accuracy: 0.8181897627965045\n",
      "precision: 0.7843604761805174\n",
      "recall: 0.7341176470588235\n",
      "f1: 0.7559811549340355\n",
      "auc: 0.8753361344537816\n"
     ]
    }
   ],
   "source": [
    "xgbc = xgb.XGBClassifier(random_state=13)\n",
    "\n",
    "StratKFold(df, features_KFold, 'Survived', 10, True, xgbc)"
   ]
  },
  {
   "cell_type": "code",
   "execution_count": 16,
   "metadata": {},
   "outputs": [
    {
     "data": {
      "text/html": [
       "<div>\n",
       "<style scoped>\n",
       "    .dataframe tbody tr th:only-of-type {\n",
       "        vertical-align: middle;\n",
       "    }\n",
       "\n",
       "    .dataframe tbody tr th {\n",
       "        vertical-align: top;\n",
       "    }\n",
       "\n",
       "    .dataframe thead th {\n",
       "        text-align: right;\n",
       "    }\n",
       "</style>\n",
       "<table border=\"1\" class=\"dataframe\">\n",
       "  <thead>\n",
       "    <tr style=\"text-align: right;\">\n",
       "      <th></th>\n",
       "      <th>Feature</th>\n",
       "      <th>XGBC_Importance</th>\n",
       "    </tr>\n",
       "  </thead>\n",
       "  <tbody>\n",
       "    <tr>\n",
       "      <th>1</th>\n",
       "      <td>Title</td>\n",
       "      <td>0.320998</td>\n",
       "    </tr>\n",
       "    <tr>\n",
       "      <th>9</th>\n",
       "      <td>FamilySize</td>\n",
       "      <td>0.132304</td>\n",
       "    </tr>\n",
       "    <tr>\n",
       "      <th>4</th>\n",
       "      <td>Pclass</td>\n",
       "      <td>0.086753</td>\n",
       "    </tr>\n",
       "    <tr>\n",
       "      <th>0</th>\n",
       "      <td>IsMale</td>\n",
       "      <td>0.075823</td>\n",
       "    </tr>\n",
       "    <tr>\n",
       "      <th>10</th>\n",
       "      <td>Stage</td>\n",
       "      <td>0.062240</td>\n",
       "    </tr>\n",
       "    <tr>\n",
       "      <th>7</th>\n",
       "      <td>Deck</td>\n",
       "      <td>0.055978</td>\n",
       "    </tr>\n",
       "    <tr>\n",
       "      <th>5</th>\n",
       "      <td>Fare_log</td>\n",
       "      <td>0.043445</td>\n",
       "    </tr>\n",
       "    <tr>\n",
       "      <th>2</th>\n",
       "      <td>FarePerPerson</td>\n",
       "      <td>0.041004</td>\n",
       "    </tr>\n",
       "    <tr>\n",
       "      <th>3</th>\n",
       "      <td>Age</td>\n",
       "      <td>0.038027</td>\n",
       "    </tr>\n",
       "    <tr>\n",
       "      <th>13</th>\n",
       "      <td>IsSingle</td>\n",
       "      <td>0.037587</td>\n",
       "    </tr>\n",
       "    <tr>\n",
       "      <th>8</th>\n",
       "      <td>Embarked</td>\n",
       "      <td>0.033472</td>\n",
       "    </tr>\n",
       "    <tr>\n",
       "      <th>14</th>\n",
       "      <td>IsAgeEstimated</td>\n",
       "      <td>0.030157</td>\n",
       "    </tr>\n",
       "    <tr>\n",
       "      <th>11</th>\n",
       "      <td>Parch</td>\n",
       "      <td>0.029503</td>\n",
       "    </tr>\n",
       "    <tr>\n",
       "      <th>6</th>\n",
       "      <td>SibSp</td>\n",
       "      <td>0.012709</td>\n",
       "    </tr>\n",
       "    <tr>\n",
       "      <th>12</th>\n",
       "      <td>HasCabin</td>\n",
       "      <td>0.000000</td>\n",
       "    </tr>\n",
       "    <tr>\n",
       "      <th>15</th>\n",
       "      <td>FreeFare</td>\n",
       "      <td>0.000000</td>\n",
       "    </tr>\n",
       "    <tr>\n",
       "      <th>16</th>\n",
       "      <td>IsAlone</td>\n",
       "      <td>0.000000</td>\n",
       "    </tr>\n",
       "  </tbody>\n",
       "</table>\n",
       "</div>"
      ],
      "text/plain": [
       "           Feature  XGBC_Importance\n",
       "1            Title         0.320998\n",
       "9       FamilySize         0.132304\n",
       "4           Pclass         0.086753\n",
       "0           IsMale         0.075823\n",
       "10           Stage         0.062240\n",
       "7             Deck         0.055978\n",
       "5         Fare_log         0.043445\n",
       "2    FarePerPerson         0.041004\n",
       "3              Age         0.038027\n",
       "13        IsSingle         0.037587\n",
       "8         Embarked         0.033472\n",
       "14  IsAgeEstimated         0.030157\n",
       "11           Parch         0.029503\n",
       "6            SibSp         0.012709\n",
       "12        HasCabin         0.000000\n",
       "15        FreeFare         0.000000\n",
       "16         IsAlone         0.000000"
      ]
     },
     "execution_count": 16,
     "metadata": {},
     "output_type": "execute_result"
    }
   ],
   "source": [
    "feature_importances = pd.DataFrame({'Feature': features_KFold,\n",
    "                                    'XGBC_Importance': xgbc.feature_importances_\n",
    "                                   })\n",
    "feature_importances = feature_importances.sort_values(by='XGBC_Importance', ascending=False)\n",
    "\n",
    "feature_importances"
   ]
  },
  {
   "cell_type": "code",
   "execution_count": 17,
   "metadata": {},
   "outputs": [],
   "source": [
    "features_xgbc = feature_importances.sort_values(by='XGBC_Importance', ascending=False)['Feature'].to_list()"
   ]
  },
  {
   "cell_type": "code",
   "execution_count": 18,
   "metadata": {},
   "outputs": [
    {
     "name": "stdout",
     "output_type": "stream",
     "text": [
      "accuracy: 0.8316740945326722\n",
      "precision: 0.7866468709785395\n",
      "recall: 0.7721653878942881\n",
      "f1: 0.778509729577841\n",
      "auc: 0.8854029821668667\n"
     ]
    }
   ],
   "source": [
    "xgbc = xgb.XGBClassifier(random_state=13)\n",
    "\n",
    "features_xgbc_sel_KFold = StratKFold_Select(df, features_xgbc, 'Survived', 5, xgbc, False)\n",
    "StratKFold(df, features_xgbc_sel_KFold, 'Survived', 5, True, xgbc)"
   ]
  },
  {
   "cell_type": "markdown",
   "metadata": {},
   "source": [
    "#### **ONE HOT ENCODING**"
   ]
  },
  {
   "cell_type": "code",
   "execution_count": 21,
   "metadata": {},
   "outputs": [
    {
     "name": "stdout",
     "output_type": "stream",
     "text": [
      "Acurracy: 0.8137342288619672\n"
     ]
    }
   ],
   "source": [
    "xgbc = xgb.XGBClassifier(random_state=13)\n",
    "\n",
    "StratKFold(df, Features_OHE, 'Survived', 5, False, xgbc)"
   ]
  },
  {
   "cell_type": "code",
   "execution_count": 23,
   "metadata": {},
   "outputs": [
    {
     "data": {
      "text/html": [
       "<div>\n",
       "<style scoped>\n",
       "    .dataframe tbody tr th:only-of-type {\n",
       "        vertical-align: middle;\n",
       "    }\n",
       "\n",
       "    .dataframe tbody tr th {\n",
       "        vertical-align: top;\n",
       "    }\n",
       "\n",
       "    .dataframe thead th {\n",
       "        text-align: right;\n",
       "    }\n",
       "</style>\n",
       "<table border=\"1\" class=\"dataframe\">\n",
       "  <thead>\n",
       "    <tr style=\"text-align: right;\">\n",
       "      <th></th>\n",
       "      <th>Feature</th>\n",
       "      <th>XGBC_Importance</th>\n",
       "    </tr>\n",
       "  </thead>\n",
       "  <tbody>\n",
       "    <tr>\n",
       "      <th>17</th>\n",
       "      <td>Pclass_3</td>\n",
       "      <td>0.245963</td>\n",
       "    </tr>\n",
       "    <tr>\n",
       "      <th>20</th>\n",
       "      <td>Title</td>\n",
       "      <td>0.222327</td>\n",
       "    </tr>\n",
       "    <tr>\n",
       "      <th>5</th>\n",
       "      <td>FamilySize</td>\n",
       "      <td>0.118044</td>\n",
       "    </tr>\n",
       "    <tr>\n",
       "      <th>12</th>\n",
       "      <td>IsMale</td>\n",
       "      <td>0.064797</td>\n",
       "    </tr>\n",
       "    <tr>\n",
       "      <th>19</th>\n",
       "      <td>Stage</td>\n",
       "      <td>0.041164</td>\n",
       "    </tr>\n",
       "    <tr>\n",
       "      <th>6</th>\n",
       "      <td>Fare_log</td>\n",
       "      <td>0.038154</td>\n",
       "    </tr>\n",
       "    <tr>\n",
       "      <th>1</th>\n",
       "      <td>Deck</td>\n",
       "      <td>0.037362</td>\n",
       "    </tr>\n",
       "    <tr>\n",
       "      <th>4</th>\n",
       "      <td>Embarked_S</td>\n",
       "      <td>0.034678</td>\n",
       "    </tr>\n",
       "    <tr>\n",
       "      <th>0</th>\n",
       "      <td>Age</td>\n",
       "      <td>0.028842</td>\n",
       "    </tr>\n",
       "    <tr>\n",
       "      <th>7</th>\n",
       "      <td>FarePerPerson</td>\n",
       "      <td>0.028137</td>\n",
       "    </tr>\n",
       "    <tr>\n",
       "      <th>2</th>\n",
       "      <td>Embarked_C</td>\n",
       "      <td>0.025603</td>\n",
       "    </tr>\n",
       "    <tr>\n",
       "      <th>16</th>\n",
       "      <td>Pclass_2</td>\n",
       "      <td>0.025458</td>\n",
       "    </tr>\n",
       "    <tr>\n",
       "      <th>10</th>\n",
       "      <td>IsAgeEstimated</td>\n",
       "      <td>0.022079</td>\n",
       "    </tr>\n",
       "    <tr>\n",
       "      <th>13</th>\n",
       "      <td>IsSingle</td>\n",
       "      <td>0.019650</td>\n",
       "    </tr>\n",
       "    <tr>\n",
       "      <th>14</th>\n",
       "      <td>Parch</td>\n",
       "      <td>0.019106</td>\n",
       "    </tr>\n",
       "    <tr>\n",
       "      <th>18</th>\n",
       "      <td>SibSp</td>\n",
       "      <td>0.014464</td>\n",
       "    </tr>\n",
       "    <tr>\n",
       "      <th>3</th>\n",
       "      <td>Embarked_Q</td>\n",
       "      <td>0.014171</td>\n",
       "    </tr>\n",
       "    <tr>\n",
       "      <th>9</th>\n",
       "      <td>HasCabin</td>\n",
       "      <td>0.000000</td>\n",
       "    </tr>\n",
       "    <tr>\n",
       "      <th>8</th>\n",
       "      <td>FreeFare</td>\n",
       "      <td>0.000000</td>\n",
       "    </tr>\n",
       "    <tr>\n",
       "      <th>11</th>\n",
       "      <td>IsAlone</td>\n",
       "      <td>0.000000</td>\n",
       "    </tr>\n",
       "    <tr>\n",
       "      <th>15</th>\n",
       "      <td>Pclass_1</td>\n",
       "      <td>0.000000</td>\n",
       "    </tr>\n",
       "  </tbody>\n",
       "</table>\n",
       "</div>"
      ],
      "text/plain": [
       "           Feature  XGBC_Importance\n",
       "17        Pclass_3         0.245963\n",
       "20           Title         0.222327\n",
       "5       FamilySize         0.118044\n",
       "12          IsMale         0.064797\n",
       "19           Stage         0.041164\n",
       "6         Fare_log         0.038154\n",
       "1             Deck         0.037362\n",
       "4       Embarked_S         0.034678\n",
       "0              Age         0.028842\n",
       "7    FarePerPerson         0.028137\n",
       "2       Embarked_C         0.025603\n",
       "16        Pclass_2         0.025458\n",
       "10  IsAgeEstimated         0.022079\n",
       "13        IsSingle         0.019650\n",
       "14           Parch         0.019106\n",
       "18           SibSp         0.014464\n",
       "3       Embarked_Q         0.014171\n",
       "9         HasCabin         0.000000\n",
       "8         FreeFare         0.000000\n",
       "11         IsAlone         0.000000\n",
       "15        Pclass_1         0.000000"
      ]
     },
     "execution_count": 23,
     "metadata": {},
     "output_type": "execute_result"
    }
   ],
   "source": [
    "feature_importances = pd.DataFrame({'Feature': Features_OHE,\n",
    "                                    'XGBC_Importance': xgbc.feature_importances_\n",
    "                                   })\n",
    "feature_importances = feature_importances.sort_values(by='XGBC_Importance', ascending=False)\n",
    "\n",
    "feature_importances"
   ]
  },
  {
   "cell_type": "code",
   "execution_count": 24,
   "metadata": {},
   "outputs": [
    {
     "name": "stdout",
     "output_type": "stream",
     "text": [
      "accuracy: 0.8283158621555458\n",
      "precision: 0.7907913195817893\n",
      "recall: 0.7575021312872975\n",
      "f1: 0.7720250197881777\n",
      "auc: 0.8740513549583447\n"
     ]
    }
   ],
   "source": [
    "features_xgbc = feature_importances.sort_values(by='XGBC_Importance', ascending=False)['Feature'].to_list()\n",
    "\n",
    "xgbc = xgb.XGBClassifier(random_state=13)\n",
    "\n",
    "features_xgbc_sel_OHE = StratKFold_Select(df, features_xgbc, 'Survived', 5, xgbc, False)\n",
    "StratKFold(df, features_xgbc_sel_OHE, 'Survived', 5, True, xgbc)"
   ]
  },
  {
   "cell_type": "markdown",
   "metadata": {},
   "source": [
    "### **MODEL REFINEMENT**"
   ]
  },
  {
   "cell_type": "code",
   "execution_count": null,
   "metadata": {
    "scrolled": true
   },
   "outputs": [],
   "source": [
    "def objective(trial):\n",
    "    params = {\n",
    "        'n_estimators': trial.suggest_int('n_estimators', 50, 500),\n",
    "        'max_depth': trial.suggest_int('max_depth', 2, 10),\n",
    "        'learning_rate': trial.suggest_float('learning_rate', 0.01, 0.3),\n",
    "        'subsample': trial.suggest_float('subsample', 0.5, 1.0),\n",
    "        'colsample_bytree': trial.suggest_float('colsample_bytree', 0.5, 1.0),\n",
    "        'gamma': trial.suggest_float('gamma', 0, 5),\n",
    "        'reg_alpha': trial.suggest_float('reg_alpha', 0, 5),\n",
    "        'reg_lambda': trial.suggest_float('reg_lambda', 0, 5),\n",
    "        'random_state': 13,\n",
    "        'use_label_encoder': False,\n",
    "        'eval_metric': 'logloss'\n",
    "    }\n",
    "\n",
    "    model = xgb.XGBClassifier(**params)\n",
    "    skf = StratifiedKFold(n_splits = 10, shuffle = True, random_state = 13)\n",
    "    score = cross_val_score(model, df[features_xgbc_sel_KFold], df['Survived'], cv = skf, scoring = 'accuracy').mean()\n",
    "    return score\n",
    "\n",
    "study = optuna.create_study(direction = 'maximize')\n",
    "study.optimize(objective, n_trials = 500)\n",
    "\n",
    "\n",
    "print('\\n\\nBest trial:', study.best_trial.params)"
   ]
  },
  {
   "cell_type": "code",
   "execution_count": 44,
   "metadata": {},
   "outputs": [
    {
     "name": "stdout",
     "output_type": "stream",
     "text": [
      "accuracy: 0.8474032459425717\n",
      "precision: 0.8403013159085674\n",
      "recall: 0.7457983193277311\n",
      "f1: 0.7886036637604111\n",
      "auc: 0.8891940695470106\n"
     ]
    }
   ],
   "source": [
    "xgbc_op = xgb.XGBClassifier(\n",
    "    random_state = 13,\n",
    "    n_estimators = 471,\n",
    "    max_depth = 6,\n",
    "    learning_rate = 0.111482401319574,\n",
    "    subsample = 0.8407428963803871,\n",
    "    colsample_bytree = 0.8369739021081172,\n",
    "    gamma = 0.3770767545748295,\n",
    "    reg_alpha = 1.1312401823000522,\n",
    "    reg_lambda = 4.219245922048798\n",
    ")\n",
    "\n",
    "StratKFold(df, features_xgbc_sel_KFold, 'Survived', 10, True, xgbc_op)"
   ]
  },
  {
   "cell_type": "markdown",
   "metadata": {},
   "source": [
    "# **PREDICTING TEST DATASET**"
   ]
  },
  {
   "cell_type": "code",
   "execution_count": 39,
   "metadata": {},
   "outputs": [],
   "source": [
    "submission = df_test[['PassengerId']].copy()\n",
    "submission['Survived'] = xgbc_op.predict(df_test[features_xgbc_sel_KFold])\n",
    "submission = submission.set_index(\"PassengerId\")\n",
    "submission.to_csv('../data/processed/submission.csv')"
   ]
  }
 ],
 "metadata": {
  "colab": {
   "authorship_tag": "ABX9TyM0nk59703bkMgIU1R86ejq",
   "provenance": []
  },
  "kernelspec": {
   "display_name": "Python [conda env:base] *",
   "language": "python",
   "name": "conda-base-py"
  },
  "language_info": {
   "codemirror_mode": {
    "name": "ipython",
    "version": 3
   },
   "file_extension": ".py",
   "mimetype": "text/x-python",
   "name": "python",
   "nbconvert_exporter": "python",
   "pygments_lexer": "ipython3",
   "version": "3.12.8"
  }
 },
 "nbformat": 4,
 "nbformat_minor": 4
}
