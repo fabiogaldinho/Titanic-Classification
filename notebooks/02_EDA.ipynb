{
 "cells": [
  {
   "cell_type": "code",
   "execution_count": 1,
   "metadata": {},
   "outputs": [],
   "source": [
    "import pandas as pd\n",
    "import numpy as np\n",
    "import matplotlib.pyplot as plt\n",
    "import seaborn as sns\n",
    "\n",
    "from sklearn.model_selection import KFold\n",
    "from sklearn.preprocessing import MaxAbsScaler\n",
    "\n",
    "pd.set_option('display.max_rows', None)\n",
    "pd.set_option('display.max_columns', None)"
   ]
  },
  {
   "cell_type": "code",
   "execution_count": 2,
   "metadata": {},
   "outputs": [],
   "source": [
    "def warn(*args, **kwargs):\n",
    "    pass\n",
    "import warnings\n",
    "warnings.warn = warn"
   ]
  },
  {
   "cell_type": "markdown",
   "metadata": {},
   "source": [
    "# **FUNCTIONS**"
   ]
  },
  {
   "cell_type": "markdown",
   "metadata": {},
   "source": [
    "## **CountPlot**"
   ]
  },
  {
   "cell_type": "code",
   "execution_count": 5,
   "metadata": {},
   "outputs": [],
   "source": [
    "def CountPlot(x, title, x_size, y_size, save):\n",
    "    plt.figure().patch.set_facecolor(\"0.85\")\n",
    "    plt.axes().set(facecolor = \"0.85\")\n",
    "\n",
    "    plt.title(title)\n",
    "    sns.countplot(x = x)\n",
    "\n",
    "    plt.grid(False)\n",
    "    plt.gca().spines['bottom'].set_visible(True)\n",
    "    plt.gca().spines['left'].set_visible(True)\n",
    "    plt.gca().spines['top'].set_visible(False)\n",
    "    plt.gca().spines['right'].set_visible(False)\n",
    "    plt.gca().spines['bottom'].set_color(\"black\")\n",
    "    plt.gca().spines['left'].set_color(\"black\")\n",
    "    \n",
    "    plt.ylabel(\"Count\")\n",
    "    plt.xlabel(\"\")\n",
    "    \n",
    "    plt.gcf().set_size_inches(x_size, y_size)\n",
    "\n",
    "    if (save != \"\"):\n",
    "        plt.savefig(save)\n",
    "\n",
    "    plt.show()\n",
    "    plt.close()"
   ]
  },
  {
   "cell_type": "markdown",
   "metadata": {},
   "source": [
    "## **Box Plot**"
   ]
  },
  {
   "cell_type": "code",
   "execution_count": 7,
   "metadata": {},
   "outputs": [],
   "source": [
    "def PlotBoxPlotV3(df_x, df_y, title, size_x, size_y, save):\n",
    "    plt.figure().patch.set_facecolor(\"0.85\")\n",
    "    plt.axes().set(facecolor = \"0.85\")\n",
    "\n",
    "    plt.title(title)\n",
    "    sns.boxplot(x = df_x, y = df_y, palette = \"mako\")\n",
    "\n",
    "    plt.grid(False)\n",
    "    plt.gca().spines['bottom'].set_visible(True)\n",
    "    plt.gca().spines['left'].set_visible(True)\n",
    "    plt.gca().spines['top'].set_visible(False)\n",
    "    plt.gca().spines['right'].set_visible(False)\n",
    "    plt.gca().spines['bottom'].set_color(\"black\")\n",
    "    plt.gca().spines['left'].set_color(\"black\")\n",
    "\n",
    "    plt.xlabel(\"\")\n",
    "    plt.ylabel(\"\")\n",
    "\n",
    "    plt.gcf().set_size_inches(size_x, size_y)\n",
    "\n",
    "    if (save != \"\"):\n",
    "        plt.savefig(save)\n",
    "\n",
    "    plt.show()\n",
    "    plt.close()"
   ]
  },
  {
   "cell_type": "markdown",
   "metadata": {
    "jp-MarkdownHeadingCollapsed": true
   },
   "source": [
    "## **K-Fold Target Encoding**"
   ]
  },
  {
   "cell_type": "code",
   "execution_count": 9,
   "metadata": {},
   "outputs": [],
   "source": [
    "def KFTE(df, df_test, categ_f, target):\n",
    "  kf = KFold(n_splits = 5, shuffle = True, random_state = 13)\n",
    "\n",
    "  nome = categ_f + \"_E\"\n",
    "\n",
    "  df[nome] = 0.0\n",
    "\n",
    "  for train_idx, val_idx in kf.split(df):\n",
    "      fold_train = df.iloc[train_idx]\n",
    "      fold_valid  = df.iloc[val_idx]\n",
    "\n",
    "      medias_feature = fold_train.groupby(categ_f)[target].mean()\n",
    "      media_global = fold_train[target].mean()\n",
    "\n",
    "      feature_encoded = fold_valid[categ_f].map(medias_feature).fillna(media_global)\n",
    "      df.loc[val_idx, nome] = feature_encoded\n",
    "\n",
    "  mapping = df.groupby(categ_f)[target].mean().to_dict()\n",
    "  global_mean = df[target].mean()\n",
    "\n",
    "  df_test[categ_f] = df_test[categ_f].map(mapping).fillna(global_mean)"
   ]
  },
  {
   "cell_type": "markdown",
   "metadata": {},
   "source": [
    "# **DATASET LOADING**"
   ]
  },
  {
   "cell_type": "code",
   "execution_count": 11,
   "metadata": {},
   "outputs": [
    {
     "data": {
      "text/html": [
       "<div>\n",
       "<style scoped>\n",
       "    .dataframe tbody tr th:only-of-type {\n",
       "        vertical-align: middle;\n",
       "    }\n",
       "\n",
       "    .dataframe tbody tr th {\n",
       "        vertical-align: top;\n",
       "    }\n",
       "\n",
       "    .dataframe thead th {\n",
       "        text-align: right;\n",
       "    }\n",
       "</style>\n",
       "<table border=\"1\" class=\"dataframe\">\n",
       "  <thead>\n",
       "    <tr style=\"text-align: right;\">\n",
       "      <th></th>\n",
       "      <th>PassengerId</th>\n",
       "      <th>Survived</th>\n",
       "      <th>Pclass</th>\n",
       "      <th>Name</th>\n",
       "      <th>Sex</th>\n",
       "      <th>Age</th>\n",
       "      <th>SibSp</th>\n",
       "      <th>Parch</th>\n",
       "      <th>Ticket</th>\n",
       "      <th>Fare</th>\n",
       "      <th>Cabin</th>\n",
       "      <th>Embarked</th>\n",
       "      <th>Fare_log</th>\n",
       "    </tr>\n",
       "  </thead>\n",
       "  <tbody>\n",
       "    <tr>\n",
       "      <th>0</th>\n",
       "      <td>1</td>\n",
       "      <td>0</td>\n",
       "      <td>3</td>\n",
       "      <td>Braund, Mr. Owen Harris</td>\n",
       "      <td>male</td>\n",
       "      <td>22.0</td>\n",
       "      <td>1</td>\n",
       "      <td>0</td>\n",
       "      <td>A/5 21171</td>\n",
       "      <td>7.2500</td>\n",
       "      <td>NaN</td>\n",
       "      <td>S</td>\n",
       "      <td>2.110213</td>\n",
       "    </tr>\n",
       "    <tr>\n",
       "      <th>1</th>\n",
       "      <td>2</td>\n",
       "      <td>1</td>\n",
       "      <td>1</td>\n",
       "      <td>Cumings, Mrs. John Bradley (Florence Briggs Th...</td>\n",
       "      <td>female</td>\n",
       "      <td>38.0</td>\n",
       "      <td>1</td>\n",
       "      <td>0</td>\n",
       "      <td>PC 17599</td>\n",
       "      <td>71.2833</td>\n",
       "      <td>C85</td>\n",
       "      <td>C</td>\n",
       "      <td>4.280593</td>\n",
       "    </tr>\n",
       "    <tr>\n",
       "      <th>2</th>\n",
       "      <td>3</td>\n",
       "      <td>1</td>\n",
       "      <td>3</td>\n",
       "      <td>Heikkinen, Miss. Laina</td>\n",
       "      <td>female</td>\n",
       "      <td>26.0</td>\n",
       "      <td>0</td>\n",
       "      <td>0</td>\n",
       "      <td>STON/O2. 3101282</td>\n",
       "      <td>7.9250</td>\n",
       "      <td>NaN</td>\n",
       "      <td>S</td>\n",
       "      <td>2.188856</td>\n",
       "    </tr>\n",
       "    <tr>\n",
       "      <th>3</th>\n",
       "      <td>4</td>\n",
       "      <td>1</td>\n",
       "      <td>1</td>\n",
       "      <td>Futrelle, Mrs. Jacques Heath (Lily May Peel)</td>\n",
       "      <td>female</td>\n",
       "      <td>35.0</td>\n",
       "      <td>1</td>\n",
       "      <td>0</td>\n",
       "      <td>113803</td>\n",
       "      <td>53.1000</td>\n",
       "      <td>C123</td>\n",
       "      <td>S</td>\n",
       "      <td>3.990834</td>\n",
       "    </tr>\n",
       "    <tr>\n",
       "      <th>4</th>\n",
       "      <td>5</td>\n",
       "      <td>0</td>\n",
       "      <td>3</td>\n",
       "      <td>Allen, Mr. William Henry</td>\n",
       "      <td>male</td>\n",
       "      <td>35.0</td>\n",
       "      <td>0</td>\n",
       "      <td>0</td>\n",
       "      <td>373450</td>\n",
       "      <td>8.0500</td>\n",
       "      <td>NaN</td>\n",
       "      <td>S</td>\n",
       "      <td>2.202765</td>\n",
       "    </tr>\n",
       "  </tbody>\n",
       "</table>\n",
       "</div>"
      ],
      "text/plain": [
       "   PassengerId  Survived  Pclass  \\\n",
       "0            1         0       3   \n",
       "1            2         1       1   \n",
       "2            3         1       3   \n",
       "3            4         1       1   \n",
       "4            5         0       3   \n",
       "\n",
       "                                                Name     Sex   Age  SibSp  \\\n",
       "0                            Braund, Mr. Owen Harris    male  22.0      1   \n",
       "1  Cumings, Mrs. John Bradley (Florence Briggs Th...  female  38.0      1   \n",
       "2                             Heikkinen, Miss. Laina  female  26.0      0   \n",
       "3       Futrelle, Mrs. Jacques Heath (Lily May Peel)  female  35.0      1   \n",
       "4                           Allen, Mr. William Henry    male  35.0      0   \n",
       "\n",
       "   Parch            Ticket     Fare Cabin Embarked  Fare_log  \n",
       "0      0         A/5 21171   7.2500   NaN        S  2.110213  \n",
       "1      0          PC 17599  71.2833   C85        C  4.280593  \n",
       "2      0  STON/O2. 3101282   7.9250   NaN        S  2.188856  \n",
       "3      0            113803  53.1000  C123        S  3.990834  \n",
       "4      0            373450   8.0500   NaN        S  2.202765  "
      ]
     },
     "execution_count": 11,
     "metadata": {},
     "output_type": "execute_result"
    }
   ],
   "source": [
    "df = pd.read_csv(\"../data/processed/1.Data_Cleaning_train.csv\")\n",
    "df_test = pd.read_csv(\"../data/processed/1.Data_Cleaning_test.csv\")\n",
    "df.head()"
   ]
  },
  {
   "cell_type": "markdown",
   "metadata": {},
   "source": [
    "# **EXPLORATORY DATA ANALYSIS**"
   ]
  },
  {
   "cell_type": "markdown",
   "metadata": {},
   "source": [
    "## **ENCODING**"
   ]
  },
  {
   "cell_type": "markdown",
   "metadata": {},
   "source": [
    "### **Pclass**"
   ]
  },
  {
   "cell_type": "code",
   "execution_count": 15,
   "metadata": {},
   "outputs": [],
   "source": [
    "df['Pclass_1'] = df['Pclass'].map({1: 1}).fillna(0)\n",
    "df['Pclass_2'] = df['Pclass'].map({2: 1}).fillna(0)\n",
    "df['Pclass_3'] = df['Pclass'].map({3: 1}).fillna(0)\n",
    "\n",
    "df_test['Pclass_1'] =  df_test['Pclass'].map({1: 1}).fillna(0)\n",
    "df_test['Pclass_2'] =  df_test['Pclass'].map({2: 1}).fillna(0)\n",
    "df_test['Pclass_3'] =  df_test['Pclass'].map({3: 1}).fillna(0)"
   ]
  },
  {
   "cell_type": "code",
   "execution_count": 16,
   "metadata": {},
   "outputs": [],
   "source": [
    "KFTE(df, df_test, 'Pclass', 'Survived')\n",
    "\n",
    "df['Pclass'] = df['Pclass_E'].copy()\n",
    "df = df.drop('Pclass_E', axis =1)"
   ]
  },
  {
   "cell_type": "markdown",
   "metadata": {},
   "source": [
    "### **Sex**"
   ]
  },
  {
   "cell_type": "code",
   "execution_count": 18,
   "metadata": {},
   "outputs": [],
   "source": [
    "df['IsMale'] = df['Sex'].map({'male': 1}).fillna(0)\n",
    "\n",
    "df_test['IsMale'] = df_test['Sex'].map({'male': 1}).fillna(0)"
   ]
  },
  {
   "cell_type": "markdown",
   "metadata": {},
   "source": [
    "### **Embarked**"
   ]
  },
  {
   "cell_type": "code",
   "execution_count": 20,
   "metadata": {},
   "outputs": [],
   "source": [
    "df['Embarked_C'] = df['Embarked'].map({\"C\": 1}).fillna(0)\n",
    "df['Embarked_Q'] = df['Embarked'].map({\"Q\": 1}).fillna(0)\n",
    "df['Embarked_S'] = df['Embarked'].map({\"S\": 1}).fillna(0)\n",
    "\n",
    "df_test['Embarked_C'] =  df_test['Embarked'].map({\"C\": 1}).fillna(0)\n",
    "df_test['Embarked_Q'] =  df_test['Embarked'].map({\"Q\": 1}).fillna(0)\n",
    "df_test['Embarked_S'] =  df_test['Embarked'].map({\"S\": 1}).fillna(0)"
   ]
  },
  {
   "cell_type": "code",
   "execution_count": 21,
   "metadata": {},
   "outputs": [],
   "source": [
    "KFTE(df, df_test, 'Embarked', 'Survived')\n",
    "\n",
    "df['Embarked'] = df['Embarked_E'].copy()\n",
    "df = df.drop('Embarked_E', axis =1)"
   ]
  },
  {
   "cell_type": "markdown",
   "metadata": {},
   "source": [
    "## **FEATURE ENGINEERING**"
   ]
  },
  {
   "cell_type": "markdown",
   "metadata": {},
   "source": [
    "### **IsAgeEstimated**"
   ]
  },
  {
   "cell_type": "code",
   "execution_count": 24,
   "metadata": {},
   "outputs": [],
   "source": [
    "df.loc[((df.Age > 1) & ((df.Age % 1) != 0)), ['IsAgeEstimated']] = 1\n",
    "df['IsAgeEstimated'] = df['IsAgeEstimated'].fillna(0)\n",
    "\n",
    "df_test.loc[((df_test.Age > 1) & ((df_test.Age % 1) != 0)), ['IsAgeEstimated']] = 1\n",
    "df_test['IsAgeEstimated'] = df_test['IsAgeEstimated'].fillna(0)"
   ]
  },
  {
   "cell_type": "markdown",
   "metadata": {},
   "source": [
    "### **Stage**"
   ]
  },
  {
   "cell_type": "code",
   "execution_count": 26,
   "metadata": {},
   "outputs": [],
   "source": [
    "df.loc[(df.Age < 1), ['Stage']] = \"Baby\"\n",
    "df.loc[((df.Age > 1) & (df.Age < 12)), ['Stage']] = \"Child\"\n",
    "df.loc[((df.Age > 12) & (df.Age < 18)), ['Stage']] = \"Teenager\"\n",
    "df.loc[(df.Age > 18), ['Stage']] = \"Adult\"\n",
    "df.loc[(df.Age > 60), ['Stage']] = \"Senior\"\n",
    "\n",
    "df_test.loc[(df_test.Age < 1), ['Stage']] = \"Baby\"\n",
    "df_test.loc[((df_test.Age > 1) & (df_test.Age < 12)), ['Stage']] = \"Child\"\n",
    "df_test.loc[((df_test.Age > 12) & (df_test.Age < 18)), ['Stage']] = \"Teenager\"\n",
    "df_test.loc[(df_test.Age > 18), ['Stage']] = \"Adult\"\n",
    "df_test.loc[(df_test.Age > 60), ['Stage']] = \"Senior\""
   ]
  },
  {
   "cell_type": "code",
   "execution_count": 27,
   "metadata": {},
   "outputs": [],
   "source": [
    "KFTE(df, df_test, 'Stage', 'Survived')\n",
    "\n",
    "df['Stage'] = df['Stage_E'].copy()\n",
    "df = df.drop('Stage_E', axis =1)"
   ]
  },
  {
   "cell_type": "markdown",
   "metadata": {},
   "source": [
    "### **FreeFare**"
   ]
  },
  {
   "cell_type": "code",
   "execution_count": 29,
   "metadata": {},
   "outputs": [],
   "source": [
    "df['FreeFare'] = df['Fare'].map({0: 1}).fillna(0)\n",
    "\n",
    "df_test['FreeFare'] = df_test['Fare'].map({0: 1}).fillna(0)"
   ]
  },
  {
   "cell_type": "markdown",
   "metadata": {},
   "source": [
    "### **IsSingle**"
   ]
  },
  {
   "cell_type": "code",
   "execution_count": 31,
   "metadata": {},
   "outputs": [],
   "source": [
    "df.loc[(((df.Name.str.contains(\"Miss\", na=False) == True) & (df.Age > 18))\\\n",
    "        | ((df.Sex == 'male') & (df.SibSp == 0) & (df.Age > 18))), ['IsSingle']] = 1\n",
    "df['IsSingle'] = df['IsSingle'].fillna(0)\n",
    "\n",
    "\n",
    "df_test.loc[(((df_test.Name.str.contains(\"Miss\", na=False) == True) & (df_test.Age > 18))\\\n",
    "        | ((df_test.Sex == 'male') & (df_test.SibSp == 0) & (df_test.Age > 18))), ['IsSingle']] = 1\n",
    "df_test['IsSingle'] = df_test['IsSingle'].fillna(0)"
   ]
  },
  {
   "cell_type": "markdown",
   "metadata": {},
   "source": [
    "### **FarePerPerson**"
   ]
  },
  {
   "cell_type": "code",
   "execution_count": 33,
   "metadata": {},
   "outputs": [],
   "source": [
    "df['FarePerPerson'] = df['Fare'] / df.groupby('Ticket').Ticket.transform('count')\n",
    "\n",
    "df_test['FarePerPerson'] = df_test['Fare'] / df_test.groupby('Ticket').Ticket.transform('count')"
   ]
  },
  {
   "cell_type": "code",
   "execution_count": 34,
   "metadata": {},
   "outputs": [
    {
     "data": {
      "image/png": "[encoded data removed]",
      "text/plain": [
       "<Figure size 700x500 with 1 Axes>"
      ]
     },
     "metadata": {},
     "output_type": "display_data"
    }
   ],
   "source": [
    "PlotBoxPlotV3(df['Survived'], df['FarePerPerson'], \"Fare Value Per Person by Survival Status\", 7, 5, \"../visuals/2.EDA/FarePerPerson.png\")"
   ]
  },
  {
   "cell_type": "code",
   "execution_count": 35,
   "metadata": {},
   "outputs": [
    {
     "data": {
      "image/png": "[encoded data removed]",
      "text/plain": [
       "<Figure size 700x500 with 1 Axes>"
      ]
     },
     "metadata": {},
     "output_type": "display_data"
    }
   ],
   "source": [
    "df['FarePerPerson'] = np.log1p(df['FarePerPerson'])\n",
    "PlotBoxPlotV3(df['Survived'], df['FarePerPerson'], \"Fare Value Per Person by Survival Status\", 7, 5, \"../visuals/2.EDA/FarePerPerson_log.png\")"
   ]
  },
  {
   "cell_type": "code",
   "execution_count": 36,
   "metadata": {},
   "outputs": [],
   "source": [
    "df_test['FarePerPerson'] = np.log1p(df_test['FarePerPerson'])"
   ]
  },
  {
   "cell_type": "markdown",
   "metadata": {},
   "source": [
    "### **FamilySize**"
   ]
  },
  {
   "cell_type": "code",
   "execution_count": 38,
   "metadata": {},
   "outputs": [],
   "source": [
    "df['FamilySize'] = df['SibSp'] + df['Parch'] + 1\n",
    "\n",
    "df_test['FamilySize'] = df_test['SibSp'] + df_test['Parch'] + 1"
   ]
  },
  {
   "cell_type": "code",
   "execution_count": 39,
   "metadata": {},
   "outputs": [
    {
     "data": {
      "image/png": "[encoded data removed]",
      "text/plain": [
       "<Figure size 700x500 with 1 Axes>"
      ]
     },
     "metadata": {},
     "output_type": "display_data"
    }
   ],
   "source": [
    "PlotBoxPlotV3(df['Survived'], df['FamilySize'], \"Family Size by Survival Status\", 7, 5, \"../visuals/2.EDA/FamilySize.png\")"
   ]
  },
  {
   "cell_type": "markdown",
   "metadata": {},
   "source": [
    "### **IsAlone**"
   ]
  },
  {
   "cell_type": "code",
   "execution_count": 41,
   "metadata": {},
   "outputs": [],
   "source": [
    "df['IsAlone'] = (df['FamilySize'] == 1).astype(int)\n",
    "\n",
    "df_test['IsAlone'] = (df_test['FamilySize'] == 1).astype(int)"
   ]
  },
  {
   "cell_type": "markdown",
   "metadata": {},
   "source": [
    "### **Title**"
   ]
  },
  {
   "cell_type": "code",
   "execution_count": 43,
   "metadata": {},
   "outputs": [
    {
     "data": {
      "text/plain": [
       "Title\n",
       "Mr          58.024691\n",
       "Miss        20.426487\n",
       "Mrs         14.029181\n",
       "Master       4.489338\n",
       "Dr           0.785634\n",
       "Rev          0.673401\n",
       "Mlle         0.224467\n",
       "Major        0.224467\n",
       "Col          0.224467\n",
       "Countess     0.112233\n",
       "Capt         0.112233\n",
       "Ms           0.112233\n",
       "Sir          0.112233\n",
       "Lady         0.112233\n",
       "Mme          0.112233\n",
       "Don          0.112233\n",
       "Jonkheer     0.112233\n",
       "Name: proportion, dtype: float64"
      ]
     },
     "execution_count": 43,
     "metadata": {},
     "output_type": "execute_result"
    }
   ],
   "source": [
    "df['Title'] = df['Name'].str.extract(' ([A-Za-z]+)\\\\.', expand=False)\n",
    "df['Title'].value_counts(normalize=True) * 100"
   ]
  },
  {
   "cell_type": "code",
   "execution_count": 44,
   "metadata": {},
   "outputs": [],
   "source": [
    "df['Title'] = df['Title'].map({\"Mr\": \"Mr\", \"Miss\": \"Miss\", \"Mrs\": \"Mrs\"}).fillna(\"Other\")\n",
    "\n",
    "df_test['Title'] = df_test['Name'].str.extract(' ([A-Za-z]+)\\\\.', expand=False)\n",
    "df_test['Title'] = df_test['Title'].map({\"Mr\": \"Mr\", \"Miss\": \"Miss\", \"Mrs\": \"Mrs\"}).fillna(\"Other\")\n",
    "\n",
    "KFTE(df, df_test, 'Title', 'Survived')\n",
    "\n",
    "df['Title'] = df['Title_E'].copy()\n",
    "df = df.drop('Title_E', axis =1)"
   ]
  },
  {
   "cell_type": "markdown",
   "metadata": {},
   "source": [
    "### **Deck**"
   ]
  },
  {
   "cell_type": "code",
   "execution_count": 46,
   "metadata": {},
   "outputs": [],
   "source": [
    "df['Deck'] = df['Cabin'].str[0]\n",
    "df['Deck'] = df['Deck'].fillna('U')\n",
    "\n",
    "df_test['Deck'] = df_test['Cabin'].str[0]\n",
    "df_test['Deck'] = df_test['Deck'].fillna('U')\n",
    "\n",
    "KFTE(df, df_test, 'Deck', 'Survived')\n",
    "\n",
    "df['Deck'] = df['Deck_E'].copy()\n",
    "df = df.drop('Deck_E', axis =1)"
   ]
  },
  {
   "cell_type": "markdown",
   "metadata": {},
   "source": [
    "### **HasCabin**"
   ]
  },
  {
   "cell_type": "code",
   "execution_count": 48,
   "metadata": {},
   "outputs": [],
   "source": [
    "df['HasCabin'] = df['Cabin'].notnull().astype(int)\n",
    "\n",
    "df_test['HasCabin'] = df_test['Cabin'].notnull().astype(int)"
   ]
  },
  {
   "cell_type": "markdown",
   "metadata": {},
   "source": [
    "## **TARGET VARIABLE ANALYSIS**"
   ]
  },
  {
   "cell_type": "code",
   "execution_count": 50,
   "metadata": {},
   "outputs": [
    {
     "data": {
      "image/png": "[encoded data removed]",
      "text/plain": [
       "<Figure size 800x500 with 1 Axes>"
      ]
     },
     "metadata": {},
     "output_type": "display_data"
    }
   ],
   "source": [
    "CountPlot(df['Survived'], \"Target Variable Histogram\", 8, 5, \"../visuals/2.EDA/TargetVariableCountPlot.png\")"
   ]
  },
  {
   "cell_type": "markdown",
   "metadata": {},
   "source": [
    "## **NORMALIZATION**"
   ]
  },
  {
   "cell_type": "code",
   "execution_count": 52,
   "metadata": {},
   "outputs": [
    {
     "data": {
      "text/html": [
       "<div>\n",
       "<style scoped>\n",
       "    .dataframe tbody tr th:only-of-type {\n",
       "        vertical-align: middle;\n",
       "    }\n",
       "\n",
       "    .dataframe tbody tr th {\n",
       "        vertical-align: top;\n",
       "    }\n",
       "\n",
       "    .dataframe thead th {\n",
       "        text-align: right;\n",
       "    }\n",
       "</style>\n",
       "<table border=\"1\" class=\"dataframe\">\n",
       "  <thead>\n",
       "    <tr style=\"text-align: right;\">\n",
       "      <th></th>\n",
       "      <th>PassengerId</th>\n",
       "      <th>Survived</th>\n",
       "      <th>Pclass</th>\n",
       "      <th>Age</th>\n",
       "      <th>SibSp</th>\n",
       "      <th>Parch</th>\n",
       "      <th>Fare</th>\n",
       "      <th>Embarked</th>\n",
       "      <th>Fare_log</th>\n",
       "      <th>Pclass_1</th>\n",
       "      <th>Pclass_2</th>\n",
       "      <th>Pclass_3</th>\n",
       "      <th>IsMale</th>\n",
       "      <th>Embarked_C</th>\n",
       "      <th>Embarked_Q</th>\n",
       "      <th>Embarked_S</th>\n",
       "      <th>IsAgeEstimated</th>\n",
       "      <th>Stage</th>\n",
       "      <th>FreeFare</th>\n",
       "      <th>IsSingle</th>\n",
       "      <th>FarePerPerson</th>\n",
       "      <th>FamilySize</th>\n",
       "      <th>IsAlone</th>\n",
       "      <th>Title</th>\n",
       "      <th>Deck</th>\n",
       "      <th>HasCabin</th>\n",
       "    </tr>\n",
       "  </thead>\n",
       "  <tbody>\n",
       "    <tr>\n",
       "      <th>count</th>\n",
       "      <td>891.000000</td>\n",
       "      <td>891.000000</td>\n",
       "      <td>891.000000</td>\n",
       "      <td>891.000000</td>\n",
       "      <td>891.000000</td>\n",
       "      <td>891.000000</td>\n",
       "      <td>891.000000</td>\n",
       "      <td>891.000000</td>\n",
       "      <td>891.000000</td>\n",
       "      <td>891.000000</td>\n",
       "      <td>891.000000</td>\n",
       "      <td>891.000000</td>\n",
       "      <td>891.000000</td>\n",
       "      <td>891.000000</td>\n",
       "      <td>891.000000</td>\n",
       "      <td>891.000000</td>\n",
       "      <td>891.000000</td>\n",
       "      <td>891.000000</td>\n",
       "      <td>891.000000</td>\n",
       "      <td>891.000000</td>\n",
       "      <td>891.000000</td>\n",
       "      <td>891.000000</td>\n",
       "      <td>891.000000</td>\n",
       "      <td>891.000000</td>\n",
       "      <td>891.000000</td>\n",
       "      <td>891.000000</td>\n",
       "    </tr>\n",
       "    <tr>\n",
       "      <th>mean</th>\n",
       "      <td>446.000000</td>\n",
       "      <td>0.383838</td>\n",
       "      <td>0.384290</td>\n",
       "      <td>29.376734</td>\n",
       "      <td>0.523008</td>\n",
       "      <td>0.381594</td>\n",
       "      <td>32.204208</td>\n",
       "      <td>0.384019</td>\n",
       "      <td>2.962246</td>\n",
       "      <td>0.242424</td>\n",
       "      <td>0.206510</td>\n",
       "      <td>0.551066</td>\n",
       "      <td>0.647587</td>\n",
       "      <td>0.188552</td>\n",
       "      <td>0.086420</td>\n",
       "      <td>0.725028</td>\n",
       "      <td>0.218855</td>\n",
       "      <td>0.381881</td>\n",
       "      <td>0.016835</td>\n",
       "      <td>0.591470</td>\n",
       "      <td>2.599872</td>\n",
       "      <td>1.904602</td>\n",
       "      <td>0.602694</td>\n",
       "      <td>0.384046</td>\n",
       "      <td>0.383513</td>\n",
       "      <td>0.228956</td>\n",
       "    </tr>\n",
       "    <tr>\n",
       "      <th>std</th>\n",
       "      <td>257.353842</td>\n",
       "      <td>0.486592</td>\n",
       "      <td>0.165700</td>\n",
       "      <td>13.271555</td>\n",
       "      <td>1.102743</td>\n",
       "      <td>0.806057</td>\n",
       "      <td>49.693429</td>\n",
       "      <td>0.085496</td>\n",
       "      <td>0.969048</td>\n",
       "      <td>0.428790</td>\n",
       "      <td>0.405028</td>\n",
       "      <td>0.497665</td>\n",
       "      <td>0.477990</td>\n",
       "      <td>0.391372</td>\n",
       "      <td>0.281141</td>\n",
       "      <td>0.446751</td>\n",
       "      <td>0.413702</td>\n",
       "      <td>0.072712</td>\n",
       "      <td>0.128725</td>\n",
       "      <td>0.491838</td>\n",
       "      <td>0.764251</td>\n",
       "      <td>1.613459</td>\n",
       "      <td>0.489615</td>\n",
       "      <td>0.274177</td>\n",
       "      <td>0.162234</td>\n",
       "      <td>0.420397</td>\n",
       "    </tr>\n",
       "    <tr>\n",
       "      <th>min</th>\n",
       "      <td>1.000000</td>\n",
       "      <td>0.000000</td>\n",
       "      <td>0.225248</td>\n",
       "      <td>0.420000</td>\n",
       "      <td>0.000000</td>\n",
       "      <td>0.000000</td>\n",
       "      <td>0.000000</td>\n",
       "      <td>0.321083</td>\n",
       "      <td>0.000000</td>\n",
       "      <td>0.000000</td>\n",
       "      <td>0.000000</td>\n",
       "      <td>0.000000</td>\n",
       "      <td>0.000000</td>\n",
       "      <td>0.000000</td>\n",
       "      <td>0.000000</td>\n",
       "      <td>0.000000</td>\n",
       "      <td>0.000000</td>\n",
       "      <td>0.157895</td>\n",
       "      <td>0.000000</td>\n",
       "      <td>0.000000</td>\n",
       "      <td>0.000000</td>\n",
       "      <td>1.000000</td>\n",
       "      <td>0.000000</td>\n",
       "      <td>0.138015</td>\n",
       "      <td>0.285971</td>\n",
       "      <td>0.000000</td>\n",
       "    </tr>\n",
       "    <tr>\n",
       "      <th>25%</th>\n",
       "      <td>223.500000</td>\n",
       "      <td>0.000000</td>\n",
       "      <td>0.245478</td>\n",
       "      <td>22.000000</td>\n",
       "      <td>0.000000</td>\n",
       "      <td>0.000000</td>\n",
       "      <td>7.910400</td>\n",
       "      <td>0.339114</td>\n",
       "      <td>2.187218</td>\n",
       "      <td>0.000000</td>\n",
       "      <td>0.000000</td>\n",
       "      <td>0.000000</td>\n",
       "      <td>0.000000</td>\n",
       "      <td>0.000000</td>\n",
       "      <td>0.000000</td>\n",
       "      <td>0.000000</td>\n",
       "      <td>0.000000</td>\n",
       "      <td>0.363946</td>\n",
       "      <td>0.000000</td>\n",
       "      <td>0.000000</td>\n",
       "      <td>2.170480</td>\n",
       "      <td>1.000000</td>\n",
       "      <td>0.000000</td>\n",
       "      <td>0.160494</td>\n",
       "      <td>0.298535</td>\n",
       "      <td>0.000000</td>\n",
       "    </tr>\n",
       "    <tr>\n",
       "      <th>50%</th>\n",
       "      <td>446.000000</td>\n",
       "      <td>0.000000</td>\n",
       "      <td>0.251948</td>\n",
       "      <td>26.500000</td>\n",
       "      <td>0.000000</td>\n",
       "      <td>0.000000</td>\n",
       "      <td>14.454200</td>\n",
       "      <td>0.346743</td>\n",
       "      <td>2.737881</td>\n",
       "      <td>0.000000</td>\n",
       "      <td>0.000000</td>\n",
       "      <td>1.000000</td>\n",
       "      <td>1.000000</td>\n",
       "      <td>0.000000</td>\n",
       "      <td>0.000000</td>\n",
       "      <td>1.000000</td>\n",
       "      <td>0.000000</td>\n",
       "      <td>0.369863</td>\n",
       "      <td>0.000000</td>\n",
       "      <td>1.000000</td>\n",
       "      <td>2.287471</td>\n",
       "      <td>1.000000</td>\n",
       "      <td>1.000000</td>\n",
       "      <td>0.167866</td>\n",
       "      <td>0.303867</td>\n",
       "      <td>0.000000</td>\n",
       "    </tr>\n",
       "    <tr>\n",
       "      <th>75%</th>\n",
       "      <td>668.500000</td>\n",
       "      <td>1.000000</td>\n",
       "      <td>0.496644</td>\n",
       "      <td>36.000000</td>\n",
       "      <td>1.000000</td>\n",
       "      <td>0.000000</td>\n",
       "      <td>31.000000</td>\n",
       "      <td>0.351852</td>\n",
       "      <td>3.465736</td>\n",
       "      <td>0.000000</td>\n",
       "      <td>0.000000</td>\n",
       "      <td>1.000000</td>\n",
       "      <td>1.000000</td>\n",
       "      <td>0.000000</td>\n",
       "      <td>0.000000</td>\n",
       "      <td>1.000000</td>\n",
       "      <td>0.000000</td>\n",
       "      <td>0.370884</td>\n",
       "      <td>0.000000</td>\n",
       "      <td>1.000000</td>\n",
       "      <td>3.229039</td>\n",
       "      <td>2.000000</td>\n",
       "      <td>1.000000</td>\n",
       "      <td>0.697987</td>\n",
       "      <td>0.308797</td>\n",
       "      <td>0.000000</td>\n",
       "    </tr>\n",
       "    <tr>\n",
       "      <th>max</th>\n",
       "      <td>891.000000</td>\n",
       "      <td>1.000000</td>\n",
       "      <td>0.652439</td>\n",
       "      <td>80.000000</td>\n",
       "      <td>8.000000</td>\n",
       "      <td>6.000000</td>\n",
       "      <td>512.329200</td>\n",
       "      <td>0.592000</td>\n",
       "      <td>6.240917</td>\n",
       "      <td>1.000000</td>\n",
       "      <td>1.000000</td>\n",
       "      <td>1.000000</td>\n",
       "      <td>1.000000</td>\n",
       "      <td>1.000000</td>\n",
       "      <td>1.000000</td>\n",
       "      <td>1.000000</td>\n",
       "      <td>1.000000</td>\n",
       "      <td>1.000000</td>\n",
       "      <td>1.000000</td>\n",
       "      <td>1.000000</td>\n",
       "      <td>5.406181</td>\n",
       "      <td>11.000000</td>\n",
       "      <td>1.000000</td>\n",
       "      <td>0.803738</td>\n",
       "      <td>0.875000</td>\n",
       "      <td>1.000000</td>\n",
       "    </tr>\n",
       "  </tbody>\n",
       "</table>\n",
       "</div>"
      ],
      "text/plain": [
       "       PassengerId    Survived      Pclass         Age       SibSp  \\\n",
       "count   891.000000  891.000000  891.000000  891.000000  891.000000   \n",
       "mean    446.000000    0.383838    0.384290   29.376734    0.523008   \n",
       "std     257.353842    0.486592    0.165700   13.271555    1.102743   \n",
       "min       1.000000    0.000000    0.225248    0.420000    0.000000   \n",
       "25%     223.500000    0.000000    0.245478   22.000000    0.000000   \n",
       "50%     446.000000    0.000000    0.251948   26.500000    0.000000   \n",
       "75%     668.500000    1.000000    0.496644   36.000000    1.000000   \n",
       "max     891.000000    1.000000    0.652439   80.000000    8.000000   \n",
       "\n",
       "            Parch        Fare    Embarked    Fare_log    Pclass_1    Pclass_2  \\\n",
       "count  891.000000  891.000000  891.000000  891.000000  891.000000  891.000000   \n",
       "mean     0.381594   32.204208    0.384019    2.962246    0.242424    0.206510   \n",
       "std      0.806057   49.693429    0.085496    0.969048    0.428790    0.405028   \n",
       "min      0.000000    0.000000    0.321083    0.000000    0.000000    0.000000   \n",
       "25%      0.000000    7.910400    0.339114    2.187218    0.000000    0.000000   \n",
       "50%      0.000000   14.454200    0.346743    2.737881    0.000000    0.000000   \n",
       "75%      0.000000   31.000000    0.351852    3.465736    0.000000    0.000000   \n",
       "max      6.000000  512.329200    0.592000    6.240917    1.000000    1.000000   \n",
       "\n",
       "         Pclass_3      IsMale  Embarked_C  Embarked_Q  Embarked_S  \\\n",
       "count  891.000000  891.000000  891.000000  891.000000  891.000000   \n",
       "mean     0.551066    0.647587    0.188552    0.086420    0.725028   \n",
       "std      0.497665    0.477990    0.391372    0.281141    0.446751   \n",
       "min      0.000000    0.000000    0.000000    0.000000    0.000000   \n",
       "25%      0.000000    0.000000    0.000000    0.000000    0.000000   \n",
       "50%      1.000000    1.000000    0.000000    0.000000    1.000000   \n",
       "75%      1.000000    1.000000    0.000000    0.000000    1.000000   \n",
       "max      1.000000    1.000000    1.000000    1.000000    1.000000   \n",
       "\n",
       "       IsAgeEstimated       Stage    FreeFare    IsSingle  FarePerPerson  \\\n",
       "count      891.000000  891.000000  891.000000  891.000000     891.000000   \n",
       "mean         0.218855    0.381881    0.016835    0.591470       2.599872   \n",
       "std          0.413702    0.072712    0.128725    0.491838       0.764251   \n",
       "min          0.000000    0.157895    0.000000    0.000000       0.000000   \n",
       "25%          0.000000    0.363946    0.000000    0.000000       2.170480   \n",
       "50%          0.000000    0.369863    0.000000    1.000000       2.287471   \n",
       "75%          0.000000    0.370884    0.000000    1.000000       3.229039   \n",
       "max          1.000000    1.000000    1.000000    1.000000       5.406181   \n",
       "\n",
       "       FamilySize     IsAlone       Title        Deck    HasCabin  \n",
       "count  891.000000  891.000000  891.000000  891.000000  891.000000  \n",
       "mean     1.904602    0.602694    0.384046    0.383513    0.228956  \n",
       "std      1.613459    0.489615    0.274177    0.162234    0.420397  \n",
       "min      1.000000    0.000000    0.138015    0.285971    0.000000  \n",
       "25%      1.000000    0.000000    0.160494    0.298535    0.000000  \n",
       "50%      1.000000    1.000000    0.167866    0.303867    0.000000  \n",
       "75%      2.000000    1.000000    0.697987    0.308797    0.000000  \n",
       "max     11.000000    1.000000    0.803738    0.875000    1.000000  "
      ]
     },
     "execution_count": 52,
     "metadata": {},
     "output_type": "execute_result"
    }
   ],
   "source": [
    "df.describe()"
   ]
  },
  {
   "cell_type": "code",
   "execution_count": 53,
   "metadata": {},
   "outputs": [],
   "source": [
    "data = df[['Age', 'SibSp', 'Parch', 'Fare_log', 'FarePerPerson', 'FamilySize']].copy()\n",
    "\n",
    "Scaler = MaxAbsScaler()\n",
    "data = pd.DataFrame(Scaler.fit_transform(data), columns = data.columns)\n",
    "\n",
    "df['Age'] = data['Age'].copy()\n",
    "df['SibSp'] = data['SibSp'].copy()\n",
    "df['Parch'] = data['Parch'].copy()\n",
    "df['Fare_log'] = data['Fare_log'].copy()\n",
    "df['FarePerPerson'] = data['FarePerPerson'].copy()\n",
    "df['FamilySize'] = data['FamilySize'].copy()"
   ]
  },
  {
   "cell_type": "code",
   "execution_count": 54,
   "metadata": {},
   "outputs": [],
   "source": [
    "data = df_test[['Age', 'SibSp', 'Parch', 'Fare_log', 'FarePerPerson', 'FamilySize']].copy()\n",
    "\n",
    "data = pd.DataFrame(Scaler.transform(data), columns = data.columns).copy()\n",
    "\n",
    "df_test['Age'] = data['Age'].copy()\n",
    "df_test['SibSp'] = data['SibSp'].copy()\n",
    "df_test['Parch'] = data['Parch'].copy()\n",
    "df_test['Fare_log'] = data['Fare_log'].copy()\n",
    "df_test['FarePerPerson'] = data['FarePerPerson'].copy()\n",
    "df_test['FamilySize'] = data['FamilySize'].copy()"
   ]
  },
  {
   "cell_type": "markdown",
   "metadata": {},
   "source": [
    "# **SAVING PROCESSED DATASET**"
   ]
  },
  {
   "cell_type": "code",
   "execution_count": 56,
   "metadata": {},
   "outputs": [],
   "source": [
    "df.to_csv('../data/processed/2.EDA_train.csv', index = False)\n",
    "\n",
    "df_test.to_csv('../data/processed/2.EDA_test.csv', index = False)"
   ]
  }
 ],
 "metadata": {
  "colab": {
   "authorship_tag": "ABX9TyM0nk59703bkMgIU1R86ejq",
   "provenance": []
  },
  "kernelspec": {
   "display_name": "Python [conda env:base] *",
   "language": "python",
   "name": "conda-base-py"
  },
  "language_info": {
   "codemirror_mode": {
    "name": "ipython",
    "version": 3
   },
   "file_extension": ".py",
   "mimetype": "text/x-python",
   "name": "python",
   "nbconvert_exporter": "python",
   "pygments_lexer": "ipython3",
   "version": "3.12.8"
  }
 },
 "nbformat": 4,
 "nbformat_minor": 4
}
