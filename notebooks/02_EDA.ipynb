{
 "cells": [
  {
   "cell_type": "code",
   "execution_count": 1,
   "metadata": {},
   "outputs": [],
   "source": [
    "import pandas as pd\n",
    "import numpy as np\n",
    "import matplotlib.pyplot as plt\n",
    "import seaborn as sns\n",
    "\n",
    "from sklearn.model_selection import KFold, train_test_split\n",
    "from sklearn.ensemble import GradientBoostingClassifier\n",
    "from sklearn.metrics import accuracy_score\n",
    "\n",
    "from catboost import CatBoostClassifier\n",
    "\n",
    "import xgboost as xgb\n",
    "\n",
    "from lightgbm import LGBMClassifier\n",
    "\n",
    "pd.set_option('display.max_rows', None)\n",
    "pd.set_option('display.max_columns', None)"
   ]
  },
  {
   "cell_type": "code",
   "execution_count": 2,
   "metadata": {},
   "outputs": [],
   "source": [
    "def warn(*args, **kwargs):\n",
    "    pass\n",
    "import warnings\n",
    "warnings.warn = warn"
   ]
  },
  {
   "cell_type": "markdown",
   "metadata": {
    "jp-MarkdownHeadingCollapsed": true
   },
   "source": [
    "# **FUNCTIONS**"
   ]
  },
  {
   "cell_type": "markdown",
   "metadata": {
    "jp-MarkdownHeadingCollapsed": true
   },
   "source": [
    "## **Scatter Plot**"
   ]
  },
  {
   "cell_type": "code",
   "execution_count": 5,
   "metadata": {},
   "outputs": [],
   "source": [
    "def PlotScatter(x, y, title, xunit, yunit, format_x, x_size):\n",
    "    plt.figure().patch.set_facecolor(\"0.85\")\n",
    "    plt.axes().set(facecolor = \"0.85\")\n",
    "\n",
    "    plt.title(title)\n",
    "    plt.scatter(x, y, alpha=0.7)\n",
    "\n",
    "    plt.grid(False)\n",
    "    plt.gca().spines['bottom'].set_visible(True)\n",
    "    plt.gca().spines['left'].set_visible(True)\n",
    "    plt.gca().spines['top'].set_visible(False)\n",
    "    plt.gca().spines['right'].set_visible(False)\n",
    "    plt.gca().spines['bottom'].set_color(\"black\")\n",
    "    plt.gca().spines['left'].set_color(\"black\")\n",
    "\n",
    "    plt.gca().set_xlabel(xunit, fontsize = 10)\n",
    "    plt.gca().xaxis.set_label_coords(1.05, -0.025)\n",
    "    plt.gca().set_ylabel(yunit, fontsize = 10)\n",
    "    plt.gca().yaxis.set_label_coords(-0.16, .98)\n",
    "\n",
    "    plt.gca().set_yticklabels(['{:,.0f}'.format(x) for x in plt.gca().get_yticks()])\n",
    "\n",
    "    if (format_x == 1):\n",
    "        plt.gca().set_xticklabels(['{:,.0f}'.format(x) for x in plt.gca().get_xticks()])\n",
    "\n",
    "    if (x_size == 0):\n",
    "        plt.gcf().set_size_inches(6, 5)\n",
    "    else:\n",
    "        plt.gcf().set_size_inches(x_size, 5)\n",
    "    plt.show()\n",
    "    plt.close()"
   ]
  },
  {
   "cell_type": "markdown",
   "metadata": {
    "jp-MarkdownHeadingCollapsed": true
   },
   "source": [
    "## **Box Plot**"
   ]
  },
  {
   "cell_type": "code",
   "execution_count": 7,
   "metadata": {},
   "outputs": [],
   "source": [
    "def PlotBoxPlot(df_x, df_y, title, yunit):\n",
    "    plt.figure(figsize=(6, 5))\n",
    "    plt.figure().patch.set_facecolor(\"0.85\")\n",
    "    plt.axes().set(facecolor = \"0.85\")\n",
    "\n",
    "    plt.title(title)\n",
    "    sns.boxplot(x = df_x, y = df_y, palette = \"mako\")\n",
    "\n",
    "    plt.grid(False)\n",
    "    plt.gca().spines['bottom'].set_visible(True)\n",
    "    plt.gca().spines['left'].set_visible(True)\n",
    "    plt.gca().spines['top'].set_visible(False)\n",
    "    plt.gca().spines['right'].set_visible(False)\n",
    "    plt.gca().spines['bottom'].set_color(\"black\")\n",
    "    plt.gca().spines['left'].set_color(\"black\")\n",
    "\n",
    "    plt.gca().set_ylabel(yunit, fontsize = 10)\n",
    "    plt.gca().yaxis.set_label_coords(-0.16, .98)\n",
    "\n",
    "    plt.gca().set_xlabel(\"\", fontsize = 1)\n",
    "\n",
    "    plt.gca().set_yticklabels(['{:,.0f}'.format(x) for x in plt.gca().get_yticks()])\n",
    "\n",
    "    plt.show()\n",
    "    plt.close()"
   ]
  },
  {
   "cell_type": "code",
   "execution_count": 8,
   "metadata": {},
   "outputs": [],
   "source": [
    "def PlotBoxPlotV2(df_x, df_y, title, yunit, size_x, size_y):\n",
    "    plt.figure().patch.set_facecolor(\"0.85\")\n",
    "    plt.axes().set(facecolor = \"0.85\")\n",
    "\n",
    "    plt.title(title)\n",
    "    sns.boxplot(x = df_x, y = df_y, palette = \"mako\")\n",
    "\n",
    "    plt.grid(False)\n",
    "    plt.gca().spines['bottom'].set_visible(True)\n",
    "    plt.gca().spines['left'].set_visible(True)\n",
    "    plt.gca().spines['top'].set_visible(False)\n",
    "    plt.gca().spines['right'].set_visible(False)\n",
    "    plt.gca().spines['bottom'].set_color(\"black\")\n",
    "    plt.gca().spines['left'].set_color(\"black\")\n",
    "\n",
    "    plt.gca().set_ylabel(yunit, fontsize = 10)\n",
    "    plt.gca().yaxis.set_label_coords(-0.16, .98)\n",
    "\n",
    "    plt.gca().set_xlabel(\"\", fontsize = 1)\n",
    "\n",
    "    plt.gca().set_yticklabels(['{:,.0f}'.format(x) for x in plt.gca().get_yticks()])\n",
    "\n",
    "    plt.gcf().set_size_inches(size_x, size_y)\n",
    "\n",
    "    plt.show()\n",
    "    plt.close()"
   ]
  },
  {
   "cell_type": "markdown",
   "metadata": {
    "jp-MarkdownHeadingCollapsed": true
   },
   "source": [
    "## **Regression Plot**"
   ]
  },
  {
   "cell_type": "code",
   "execution_count": 10,
   "metadata": {},
   "outputs": [],
   "source": [
    "def PlotRegPlot(df_x, df_y, title, xunit, yunit):\n",
    "    plt.figure(figsize=(6, 5))\n",
    "    plt.figure().patch.set_facecolor(\"0.85\")\n",
    "    plt.axes().set(facecolor = \"0.85\")\n",
    "\n",
    "    plt.title(title)\n",
    "    sns.regplot(x = df_x, y = df_y, line_kws={\"color\": \"#31273F\"})\n",
    "\n",
    "    plt.grid(False)\n",
    "    plt.gca().spines['bottom'].set_visible(True)\n",
    "    plt.gca().spines['left'].set_visible(True)\n",
    "    plt.gca().spines['top'].set_visible(False)\n",
    "    plt.gca().spines['right'].set_visible(False)\n",
    "    plt.gca().spines['bottom'].set_color(\"black\")\n",
    "    plt.gca().spines['left'].set_color(\"black\")\n",
    "\n",
    "    plt.gca().set_ylabel(yunit, fontsize = 10)\n",
    "    plt.gca().yaxis.set_label_coords(-0.16, .98)\n",
    "\n",
    "    plt.gca().set_xlabel(xunit, fontsize = 10)\n",
    "    plt.gca().xaxis.set_label_coords(1.05, -0.025)\n",
    "\n",
    "    plt.gca().set_yticklabels(['{:,.0f}'.format(x) for x in plt.gca().get_yticks()])\n",
    "    plt.gca().set_xticklabels(['{:,.0f}'.format(x) for x in plt.gca().get_xticks()])\n",
    "\n",
    "    plt.show()\n",
    "    plt.close()"
   ]
  },
  {
   "cell_type": "markdown",
   "metadata": {
    "jp-MarkdownHeadingCollapsed": true
   },
   "source": [
    "## **Histogram**"
   ]
  },
  {
   "cell_type": "code",
   "execution_count": 12,
   "metadata": {},
   "outputs": [],
   "source": [
    "def HistPlot(x, title, xunit, x_size):\n",
    "    plt.figure().patch.set_facecolor(\"0.85\")\n",
    "    plt.axes().set(facecolor = \"0.85\")\n",
    "\n",
    "    plt.title(title)\n",
    "    sns.histplot(x = x)\n",
    "\n",
    "    plt.grid(False)\n",
    "    plt.gca().spines['bottom'].set_visible(True)\n",
    "    plt.gca().spines['left'].set_visible(True)\n",
    "    plt.gca().spines['top'].set_visible(False)\n",
    "    plt.gca().spines['right'].set_visible(False)\n",
    "    plt.gca().spines['bottom'].set_color(\"black\")\n",
    "    plt.gca().spines['left'].set_color(\"black\")\n",
    "\n",
    "    plt.gca().set_xlabel(xunit, fontsize = 10)\n",
    "    plt.gca().xaxis.set_label_coords(0.98, -0.08)\n",
    "\n",
    "    plt.ylabel(\"Count\")\n",
    "\n",
    "    if (x_size == 0):\n",
    "        plt.gcf().set_size_inches(6, 5)\n",
    "    else:\n",
    "        plt.gcf().set_size_inches(x_size, 5)\n",
    "\n",
    "    plt.show()\n",
    "    plt.close()"
   ]
  },
  {
   "cell_type": "markdown",
   "metadata": {
    "jp-MarkdownHeadingCollapsed": true
   },
   "source": [
    "## **CountPlot**"
   ]
  },
  {
   "cell_type": "code",
   "execution_count": 14,
   "metadata": {},
   "outputs": [],
   "source": [
    "def CountPlot(x, title, x_size, y_size):\n",
    "    plt.figure().patch.set_facecolor(\"0.85\")\n",
    "    plt.axes().set(facecolor = \"0.85\")\n",
    "\n",
    "    plt.title(title)\n",
    "    sns.countplot(x = x)\n",
    "\n",
    "    plt.grid(False)\n",
    "    plt.gca().spines['bottom'].set_visible(True)\n",
    "    plt.gca().spines['left'].set_visible(True)\n",
    "    plt.gca().spines['top'].set_visible(False)\n",
    "    plt.gca().spines['right'].set_visible(False)\n",
    "    plt.gca().spines['bottom'].set_color(\"black\")\n",
    "    plt.gca().spines['left'].set_color(\"black\")\n",
    "    \n",
    "    plt.ylabel(\"Count\")\n",
    "    plt.xlabel(\"\")\n",
    "    \n",
    "    plt.gcf().set_size_inches(x_size, y_size)\n",
    "\n",
    "    plt.show()\n",
    "    plt.close()"
   ]
  },
  {
   "cell_type": "markdown",
   "metadata": {
    "jp-MarkdownHeadingCollapsed": true
   },
   "source": [
    "## **Predicted vs Actual Values**"
   ]
  },
  {
   "cell_type": "code",
   "execution_count": 16,
   "metadata": {},
   "outputs": [],
   "source": [
    "def PlotFitted(y_test, yhat, title):\n",
    "    plt.figure().patch.set_facecolor(\"0.85\")\n",
    "    plt.axes().set(facecolor = \"0.85\")\n",
    "    \n",
    "    plt.title(title)\n",
    "\n",
    "    y_test1 = np.exp(y_test)\n",
    "    yhat1 = np.exp(yhat)\n",
    "\n",
    "    sns.scatterplot(x=y_test1.to_numpy().flatten(), y=yhat1, alpha=0.6)\n",
    "    plt.plot([y_test1.min(), y_test1.max()], [y_test1.min(), y_test1.max()], 'r--')\n",
    "\n",
    "    plt.grid(False)\n",
    "    plt.gca().spines['bottom'].set_visible(True)\n",
    "    plt.gca().spines['left'].set_visible(True)\n",
    "    plt.gca().spines['top'].set_visible(False)\n",
    "    plt.gca().spines['right'].set_visible(False)\n",
    "    plt.gca().spines['bottom'].set_color(\"black\")\n",
    "    plt.gca().spines['left'].set_color(\"black\")\n",
    "    \n",
    "    plt.xlabel(\"Actual Values\")\n",
    "    plt.ylabel(\"Predicted Values\")\n",
    "\n",
    "    plt.gcf().set_size_inches(7, 5)\n",
    "\n",
    "    plt.ylim(0,)\n",
    "    plt.xlim(0,)\n",
    "    \n",
    "    plt.show()\n",
    "    plt.close()\n",
    "    \n",
    "    \n",
    "    print(\"\\n- Mean Squared Error:\", mean_squared_error(y_test, yhat))\n",
    "    print(\"- Root Mean Squared Error:\", root_mean_squared_error(y_test, yhat))"
   ]
  },
  {
   "cell_type": "code",
   "execution_count": 17,
   "metadata": {},
   "outputs": [],
   "source": [
    "def PlotFittedV(yhat, y_test, model, x_data, y_data, title, xlabel):\n",
    "    plt.figure().patch.set_facecolor(\"0.85\")\n",
    "    plt.axes().set(facecolor = \"0.85\")\n",
    "\n",
    "    plt.title(title)\n",
    "\n",
    "    ax2 = sns.distplot(y_test, hist=False, color=\"r\", label = \"Actual Value\")\n",
    "    sns.distplot(yhat, hist=False, color=\"b\", label=\"Predicted Value\", ax = ax2)\n",
    "\n",
    "    plt.grid(False)\n",
    "    plt.gca().spines['bottom'].set_visible(True)\n",
    "    plt.gca().spines['left'].set_visible(True)\n",
    "    plt.gca().spines['top'].set_visible(False)\n",
    "    plt.gca().spines['right'].set_visible(False)\n",
    "    plt.gca().spines['bottom'].set_color(\"black\")\n",
    "    plt.gca().spines['left'].set_color(\"black\")\n",
    "\n",
    "    plt.ylabel(\"Density\")\n",
    "    plt.xlabel(xlabel)\n",
    "    plt.legend(['Actual Value', 'Predicted Value'], framealpha=0)\n",
    "\n",
    "    plt.gcf().set_size_inches(7, 5)\n",
    "\n",
    "    plt.show()\n",
    "    plt.close()\n",
    "\n",
    "    print(\"\\n- Mean Squared Error:\", mean_squared_error(y_test, yhat))\n",
    "    print(\"- Root Mean Squared Error:\", root_mean_squared_error(y_test, yhat))\n",
    "    print(\"- Cross-Validation Score:\", cross_val_score(model, x_data, y_data, cv=5).mean())"
   ]
  },
  {
   "cell_type": "code",
   "execution_count": 18,
   "metadata": {},
   "outputs": [],
   "source": [
    "def PlotFittedV2(yhat, y_test, title, xlabel):\n",
    "    plt.figure().patch.set_facecolor(\"0.85\")\n",
    "    plt.axes().set(facecolor = \"0.85\")\n",
    "\n",
    "    plt.title(title)\n",
    "\n",
    "    ax2 = sns.distplot(np.exp(y_test), hist=False, color=\"r\", label = \"Actual Value\")\n",
    "    sns.distplot(np.exp(yhat), hist=False, color=\"b\", label=\"Predicted Value\", ax = ax2)\n",
    "\n",
    "    plt.grid(False)\n",
    "    plt.gca().spines['bottom'].set_visible(True)\n",
    "    plt.gca().spines['left'].set_visible(True)\n",
    "    plt.gca().spines['top'].set_visible(False)\n",
    "    plt.gca().spines['right'].set_visible(False)\n",
    "    plt.gca().spines['bottom'].set_color(\"black\")\n",
    "    plt.gca().spines['left'].set_color(\"black\")\n",
    "\n",
    "    plt.ylabel(\"Density\")\n",
    "    plt.xlabel(xlabel)\n",
    "    plt.legend(['Actual Value', 'Predicted Value'], framealpha=0)\n",
    "\n",
    "    plt.gcf().set_size_inches(7, 5)\n",
    "\n",
    "    plt.show()\n",
    "    plt.close()\n",
    "\n",
    "    print(\"\\n- Mean Squared Error:\", mean_squared_error(y_test, yhat))\n",
    "    print(\"- Root Mean Squared Error:\", root_mean_squared_error(y_test, yhat))"
   ]
  },
  {
   "cell_type": "markdown",
   "metadata": {
    "jp-MarkdownHeadingCollapsed": true
   },
   "source": [
    "## **Line Plot**"
   ]
  },
  {
   "cell_type": "code",
   "execution_count": 20,
   "metadata": {},
   "outputs": [],
   "source": [
    "def PlotLine(y, title, yunit, x_size, y_size):\n",
    "  plt.figure().patch.set_facecolor(\"0.85\")\n",
    "  plt.axes().set(facecolor = \"0.85\")\n",
    "\n",
    "  plt.title(title)\n",
    "  plt.plot(y)\n",
    "\n",
    "  plt.grid(False)\n",
    "  plt.gca().spines['bottom'].set_visible(True)\n",
    "  plt.gca().spines['left'].set_visible(True)\n",
    "  plt.gca().spines['top'].set_visible(False)\n",
    "  plt.gca().spines['right'].set_visible(False)\n",
    "  plt.gca().spines['bottom'].set_color(\"black\")\n",
    "  plt.gca().spines['left'].set_color(\"black\")\n",
    "\n",
    "  plt.gca().set_xlabel(\"\", fontsize = 0)\n",
    "  #plt.gca().xaxis.set_label_coords(1.05, -0.025)\n",
    "  plt.gca().set_ylabel(yunit, fontsize = 10)\n",
    "  plt.gca().yaxis.set_label_coords(-0.16, .98)\n",
    "\n",
    "  plt.gca().set_yticklabels(['{:,.0f}'.format(x) for x in plt.gca().get_yticks()])\n",
    "\n",
    "  plt.gcf().set_size_inches(x_size, y_size)\n",
    "\n",
    "  plt.show()\n",
    "  plt.close()"
   ]
  },
  {
   "cell_type": "markdown",
   "metadata": {
    "jp-MarkdownHeadingCollapsed": true
   },
   "source": [
    "## **K-Fold Target Encoding**"
   ]
  },
  {
   "cell_type": "code",
   "execution_count": 22,
   "metadata": {},
   "outputs": [],
   "source": [
    "def KFTE(df, df_test, categ_f, target):\n",
    "  kf = KFold(n_splits = 5, shuffle = True, random_state = 13)\n",
    "\n",
    "  nome = categ_f + \"_E\"\n",
    "\n",
    "  df[nome] = 0.0\n",
    "\n",
    "  for train_idx, val_idx in kf.split(df):\n",
    "      fold_train = df.iloc[train_idx]\n",
    "      fold_valid  = df.iloc[val_idx]\n",
    "\n",
    "      medias_feature = fold_train.groupby(categ_f)[target].mean()\n",
    "      media_global = fold_train[target].mean()\n",
    "\n",
    "      feature_encoded = fold_valid[categ_f].map(medias_feature).fillna(media_global)\n",
    "      df.loc[val_idx, nome] = feature_encoded\n",
    "\n",
    "  mapping = df.groupby(categ_f)[target].mean().to_dict()\n",
    "  global_mean = df[target].mean()\n",
    "\n",
    "  df_test[categ_f] = df_test[categ_f].map(mapping).fillna(global_mean)"
   ]
  },
  {
   "cell_type": "markdown",
   "metadata": {
    "jp-MarkdownHeadingCollapsed": true
   },
   "source": [
    "# **DATASET LOADING**"
   ]
  },
  {
   "cell_type": "code",
   "execution_count": 24,
   "metadata": {},
   "outputs": [
    {
     "data": {
      "text/html": [
       "<div>\n",
       "<style scoped>\n",
       "    .dataframe tbody tr th:only-of-type {\n",
       "        vertical-align: middle;\n",
       "    }\n",
       "\n",
       "    .dataframe tbody tr th {\n",
       "        vertical-align: top;\n",
       "    }\n",
       "\n",
       "    .dataframe thead th {\n",
       "        text-align: right;\n",
       "    }\n",
       "</style>\n",
       "<table border=\"1\" class=\"dataframe\">\n",
       "  <thead>\n",
       "    <tr style=\"text-align: right;\">\n",
       "      <th></th>\n",
       "      <th>PassengerId</th>\n",
       "      <th>Survived</th>\n",
       "      <th>Pclass</th>\n",
       "      <th>Name</th>\n",
       "      <th>Sex</th>\n",
       "      <th>Age</th>\n",
       "      <th>SibSp</th>\n",
       "      <th>Parch</th>\n",
       "      <th>Ticket</th>\n",
       "      <th>Fare</th>\n",
       "      <th>Cabin</th>\n",
       "      <th>Embarked</th>\n",
       "      <th>Fare_log</th>\n",
       "    </tr>\n",
       "  </thead>\n",
       "  <tbody>\n",
       "    <tr>\n",
       "      <th>0</th>\n",
       "      <td>1</td>\n",
       "      <td>0</td>\n",
       "      <td>3</td>\n",
       "      <td>Braund, Mr. Owen Harris</td>\n",
       "      <td>male</td>\n",
       "      <td>22.0</td>\n",
       "      <td>1</td>\n",
       "      <td>0</td>\n",
       "      <td>A/5 21171</td>\n",
       "      <td>7.2500</td>\n",
       "      <td>NaN</td>\n",
       "      <td>S</td>\n",
       "      <td>2.110213</td>\n",
       "    </tr>\n",
       "    <tr>\n",
       "      <th>1</th>\n",
       "      <td>2</td>\n",
       "      <td>1</td>\n",
       "      <td>1</td>\n",
       "      <td>Cumings, Mrs. John Bradley (Florence Briggs Th...</td>\n",
       "      <td>female</td>\n",
       "      <td>38.0</td>\n",
       "      <td>1</td>\n",
       "      <td>0</td>\n",
       "      <td>PC 17599</td>\n",
       "      <td>71.2833</td>\n",
       "      <td>C85</td>\n",
       "      <td>C</td>\n",
       "      <td>4.280593</td>\n",
       "    </tr>\n",
       "    <tr>\n",
       "      <th>2</th>\n",
       "      <td>3</td>\n",
       "      <td>1</td>\n",
       "      <td>3</td>\n",
       "      <td>Heikkinen, Miss. Laina</td>\n",
       "      <td>female</td>\n",
       "      <td>26.0</td>\n",
       "      <td>0</td>\n",
       "      <td>0</td>\n",
       "      <td>STON/O2. 3101282</td>\n",
       "      <td>7.9250</td>\n",
       "      <td>NaN</td>\n",
       "      <td>S</td>\n",
       "      <td>2.188856</td>\n",
       "    </tr>\n",
       "    <tr>\n",
       "      <th>3</th>\n",
       "      <td>4</td>\n",
       "      <td>1</td>\n",
       "      <td>1</td>\n",
       "      <td>Futrelle, Mrs. Jacques Heath (Lily May Peel)</td>\n",
       "      <td>female</td>\n",
       "      <td>35.0</td>\n",
       "      <td>1</td>\n",
       "      <td>0</td>\n",
       "      <td>113803</td>\n",
       "      <td>53.1000</td>\n",
       "      <td>C123</td>\n",
       "      <td>S</td>\n",
       "      <td>3.990834</td>\n",
       "    </tr>\n",
       "    <tr>\n",
       "      <th>4</th>\n",
       "      <td>5</td>\n",
       "      <td>0</td>\n",
       "      <td>3</td>\n",
       "      <td>Allen, Mr. William Henry</td>\n",
       "      <td>male</td>\n",
       "      <td>35.0</td>\n",
       "      <td>0</td>\n",
       "      <td>0</td>\n",
       "      <td>373450</td>\n",
       "      <td>8.0500</td>\n",
       "      <td>NaN</td>\n",
       "      <td>S</td>\n",
       "      <td>2.202765</td>\n",
       "    </tr>\n",
       "  </tbody>\n",
       "</table>\n",
       "</div>"
      ],
      "text/plain": [
       "   PassengerId  Survived  Pclass  \\\n",
       "0            1         0       3   \n",
       "1            2         1       1   \n",
       "2            3         1       3   \n",
       "3            4         1       1   \n",
       "4            5         0       3   \n",
       "\n",
       "                                                Name     Sex   Age  SibSp  \\\n",
       "0                            Braund, Mr. Owen Harris    male  22.0      1   \n",
       "1  Cumings, Mrs. John Bradley (Florence Briggs Th...  female  38.0      1   \n",
       "2                             Heikkinen, Miss. Laina  female  26.0      0   \n",
       "3       Futrelle, Mrs. Jacques Heath (Lily May Peel)  female  35.0      1   \n",
       "4                           Allen, Mr. William Henry    male  35.0      0   \n",
       "\n",
       "   Parch            Ticket     Fare Cabin Embarked  Fare_log  \n",
       "0      0         A/5 21171   7.2500   NaN        S  2.110213  \n",
       "1      0          PC 17599  71.2833   C85        C  4.280593  \n",
       "2      0  STON/O2. 3101282   7.9250   NaN        S  2.188856  \n",
       "3      0            113803  53.1000  C123        S  3.990834  \n",
       "4      0            373450   8.0500   NaN        S  2.202765  "
      ]
     },
     "execution_count": 24,
     "metadata": {},
     "output_type": "execute_result"
    }
   ],
   "source": [
    "df = pd.read_csv(\"../data/processed/1.Data_Cleaning_train.csv\")\n",
    "df_test = pd.read_csv(\"../data/processed/1.Data_Cleaning_test.csv\")\n",
    "df.head()"
   ]
  },
  {
   "cell_type": "markdown",
   "metadata": {},
   "source": [
    "# **EXPLORATORY DATA ANALYSIS**"
   ]
  },
  {
   "cell_type": "markdown",
   "metadata": {
    "jp-MarkdownHeadingCollapsed": true
   },
   "source": [
    "## **ENCODING**"
   ]
  },
  {
   "cell_type": "markdown",
   "metadata": {
    "jp-MarkdownHeadingCollapsed": true
   },
   "source": [
    "### **Pclass**"
   ]
  },
  {
   "cell_type": "code",
   "execution_count": 28,
   "metadata": {},
   "outputs": [],
   "source": [
    "df['Pclass_1'] = df['Pclass'].map({1: 1}).fillna(0)\n",
    "df['Pclass_2'] = df['Pclass'].map({2: 1}).fillna(0)\n",
    "df['Pclass_3'] = df['Pclass'].map({3: 1}).fillna(0)\n",
    "\n",
    "df_test['Pclass_1'] =  df_test['Pclass'].map({1: 1}).fillna(0)\n",
    "df_test['Pclass_2'] =  df_test['Pclass'].map({2: 1}).fillna(0)\n",
    "df_test['Pclass_3'] =  df_test['Pclass'].map({3: 1}).fillna(0)"
   ]
  },
  {
   "cell_type": "code",
   "execution_count": 29,
   "metadata": {},
   "outputs": [],
   "source": [
    "KFTE(df, df_test, 'Pclass', 'Survived')"
   ]
  },
  {
   "cell_type": "markdown",
   "metadata": {
    "jp-MarkdownHeadingCollapsed": true
   },
   "source": [
    "### **Sex**"
   ]
  },
  {
   "cell_type": "code",
   "execution_count": 31,
   "metadata": {},
   "outputs": [],
   "source": [
    "df['IsMale'] = df['Sex'].map({'male': 1}).fillna(0)\n",
    "\n",
    "df_test['IsMale'] = df_test['Sex'].map({'male': 1}).fillna(0)"
   ]
  },
  {
   "cell_type": "markdown",
   "metadata": {
    "jp-MarkdownHeadingCollapsed": true
   },
   "source": [
    "### **Embarked**"
   ]
  },
  {
   "cell_type": "code",
   "execution_count": 33,
   "metadata": {},
   "outputs": [],
   "source": [
    "df['Embarked_C'] = df['Embarked'].map({\"C\": 1}).fillna(0)\n",
    "df['Embarked_Q'] = df['Embarked'].map({\"Q\": 1}).fillna(0)\n",
    "df['Embarked_S'] = df['Embarked'].map({\"S\": 1}).fillna(0)\n",
    "\n",
    "df_test['Embarked_C'] =  df_test['Embarked'].map({\"C\": 1}).fillna(0)\n",
    "df_test['Embarked_Q'] =  df_test['Embarked'].map({\"Q\": 1}).fillna(0)\n",
    "df_test['Embarked_S'] =  df_test['Embarked'].map({\"S\": 1}).fillna(0)"
   ]
  },
  {
   "cell_type": "code",
   "execution_count": 34,
   "metadata": {},
   "outputs": [],
   "source": [
    "KFTE(df, df_test, 'Embarked', 'Survived')"
   ]
  },
  {
   "cell_type": "markdown",
   "metadata": {
    "jp-MarkdownHeadingCollapsed": true
   },
   "source": [
    "## **FEATURE ENGINEERING**"
   ]
  },
  {
   "cell_type": "markdown",
   "metadata": {
    "jp-MarkdownHeadingCollapsed": true
   },
   "source": [
    "### **IsAgeEstimated**"
   ]
  },
  {
   "cell_type": "code",
   "execution_count": 37,
   "metadata": {},
   "outputs": [],
   "source": [
    "df.loc[((df.Age > 1) & ((df.Age % 1) != 0)), ['IsAgeEstimated']] = 1\n",
    "df['IsAgeEstimated'] = df['IsAgeEstimated'].fillna(0)\n",
    "\n",
    "df_test.loc[((df_test.Age > 1) & ((df_test.Age % 1) != 0)), ['IsAgeEstimated']] = 1\n",
    "df_test['IsAgeEstimated'] = df_test['IsAgeEstimated'].fillna(0)"
   ]
  },
  {
   "cell_type": "markdown",
   "metadata": {
    "jp-MarkdownHeadingCollapsed": true
   },
   "source": [
    "### **Stage**"
   ]
  },
  {
   "cell_type": "code",
   "execution_count": 39,
   "metadata": {},
   "outputs": [],
   "source": [
    "df.loc[(df.Age < 1), ['Stage']] = \"Baby\"\n",
    "df.loc[((df.Age > 1) & (df.Age < 12)), ['Stage']] = \"Child\"\n",
    "df.loc[((df.Age > 12) & (df.Age < 18)), ['Stage']] = \"Teenager\"\n",
    "df.loc[(df.Age > 18), ['Stage']] = \"Adult\"\n",
    "df.loc[(df.Age > 60), ['Stage']] = \"Senior\"\n",
    "\n",
    "df_test.loc[(df_test.Age < 1), ['Stage']] = \"Baby\"\n",
    "df_test.loc[((df_test.Age > 1) & (df_test.Age < 12)), ['Stage']] = \"Child\"\n",
    "df_test.loc[((df_test.Age > 12) & (df_test.Age < 18)), ['Stage']] = \"Teenager\"\n",
    "df_test.loc[(df_test.Age > 18), ['Stage']] = \"Adult\"\n",
    "df_test.loc[(df_test.Age > 60), ['Stage']] = \"Senior\""
   ]
  },
  {
   "cell_type": "code",
   "execution_count": 40,
   "metadata": {},
   "outputs": [],
   "source": [
    "KFTE(df, df_test, 'Stage', 'Survived')"
   ]
  },
  {
   "cell_type": "markdown",
   "metadata": {
    "jp-MarkdownHeadingCollapsed": true
   },
   "source": [
    "### **FreeFare**"
   ]
  },
  {
   "cell_type": "code",
   "execution_count": 42,
   "metadata": {},
   "outputs": [],
   "source": [
    "df['FreeFare'] = df['Fare'].map({0: 1}).fillna(0)\n",
    "\n",
    "df_test['FreeFare'] = df_test['Fare'].map({0: 1}).fillna(0)"
   ]
  },
  {
   "cell_type": "markdown",
   "metadata": {
    "jp-MarkdownHeadingCollapsed": true
   },
   "source": [
    "### **IsSingle**"
   ]
  },
  {
   "cell_type": "code",
   "execution_count": 44,
   "metadata": {},
   "outputs": [],
   "source": [
    "df.loc[(((df.Name.str.contains(\"Miss\", na=False) == True) & (df.Age > 18))\\\n",
    "        | ((df.Sex == 'male') & (df.SibSp == 0) & (df.Age > 18))), ['IsSingle']] = 1\n",
    "df['IsSingle'] = df['IsSingle'].fillna(0)\n",
    "\n",
    "\n",
    "df_test.loc[(((df_test.Name.str.contains(\"Miss\", na=False) == True) & (df_test.Age > 18))\\\n",
    "        | ((df_test.Sex == 'male') & (df_test.SibSp == 0) & (df_test.Age > 18))), ['IsSingle']] = 1\n",
    "df_test['IsSingle'] = df_test['IsSingle'].fillna(0)"
   ]
  },
  {
   "cell_type": "markdown",
   "metadata": {
    "jp-MarkdownHeadingCollapsed": true
   },
   "source": [
    "### **FarePerPerson**"
   ]
  },
  {
   "cell_type": "code",
   "execution_count": 46,
   "metadata": {},
   "outputs": [],
   "source": [
    "df['FarePerPerson'] = df['Fare'] / df.groupby('Ticket').Ticket.transform('count')\n",
    "\n",
    "df_test['FarePerPerson'] = df_test['Fare'] / df_test.groupby('Ticket').Ticket.transform('count')"
   ]
  },
  {
   "cell_type": "markdown",
   "metadata": {
    "jp-MarkdownHeadingCollapsed": true
   },
   "source": [
    "### **FamilySize**"
   ]
  },
  {
   "cell_type": "code",
   "execution_count": 48,
   "metadata": {},
   "outputs": [],
   "source": [
    "df['FamilySize'] = df['SibSp'] + df['Parch'] + 1\n",
    "\n",
    "df_test['FamilySize'] = df_test['SibSp'] + df_test['Parch'] + 1"
   ]
  },
  {
   "cell_type": "markdown",
   "metadata": {
    "jp-MarkdownHeadingCollapsed": true
   },
   "source": [
    "### **IsAlone**"
   ]
  },
  {
   "cell_type": "code",
   "execution_count": 50,
   "metadata": {},
   "outputs": [],
   "source": [
    "df['IsAlone'] = (df['FamilySize'] == 1).astype(int)\n",
    "\n",
    "df_test['IsAlone'] = (df_test['FamilySize'] == 1).astype(int)"
   ]
  },
  {
   "cell_type": "markdown",
   "metadata": {
    "jp-MarkdownHeadingCollapsed": true
   },
   "source": [
    "### **Title**"
   ]
  },
  {
   "cell_type": "code",
   "execution_count": 52,
   "metadata": {},
   "outputs": [
    {
     "data": {
      "text/plain": [
       "Title\n",
       "Mr          58.024691\n",
       "Miss        20.426487\n",
       "Mrs         14.029181\n",
       "Master       4.489338\n",
       "Dr           0.785634\n",
       "Rev          0.673401\n",
       "Mlle         0.224467\n",
       "Major        0.224467\n",
       "Col          0.224467\n",
       "Countess     0.112233\n",
       "Capt         0.112233\n",
       "Ms           0.112233\n",
       "Sir          0.112233\n",
       "Lady         0.112233\n",
       "Mme          0.112233\n",
       "Don          0.112233\n",
       "Jonkheer     0.112233\n",
       "Name: proportion, dtype: float64"
      ]
     },
     "execution_count": 52,
     "metadata": {},
     "output_type": "execute_result"
    }
   ],
   "source": [
    "df['Title'] = df['Name'].str.extract(' ([A-Za-z]+)\\\\.', expand=False)\n",
    "df['Title'].value_counts(normalize=True) * 100"
   ]
  },
  {
   "cell_type": "code",
   "execution_count": 53,
   "metadata": {},
   "outputs": [],
   "source": [
    "df['Title'] = df['Title'].map({\"Mr\": \"Mr\", \"Miss\": \"Miss\", \"Mrs\": \"Mrs\"}).fillna(\"Other\")\n",
    "\n",
    "df_test['Title'] = df_test['Name'].str.extract(' ([A-Za-z]+)\\\\.', expand=False)\n",
    "df_test['Title'] = df_test['Title'].map({\"Mr\": \"Mr\", \"Miss\": \"Miss\", \"Mrs\": \"Mrs\"}).fillna(\"Other\")\n",
    "\n",
    "KFTE(df, df_test, 'Title', 'Survived')"
   ]
  },
  {
   "cell_type": "markdown",
   "metadata": {
    "jp-MarkdownHeadingCollapsed": true
   },
   "source": [
    "### **Deck**"
   ]
  },
  {
   "cell_type": "code",
   "execution_count": 55,
   "metadata": {},
   "outputs": [],
   "source": [
    "df['Deck'] = df['Cabin'].str[0]\n",
    "df['Deck'] = df['Deck'].fillna('U')\n",
    "\n",
    "df_test['Deck'] = df_test['Cabin'].str[0]\n",
    "df_test['Deck'] = df_test['Deck'].fillna('U')\n",
    "\n",
    "KFTE(df, df_test, 'Deck', 'Survived')"
   ]
  },
  {
   "cell_type": "markdown",
   "metadata": {
    "jp-MarkdownHeadingCollapsed": true
   },
   "source": [
    "### **HasCabin**"
   ]
  },
  {
   "cell_type": "code",
   "execution_count": 57,
   "metadata": {},
   "outputs": [],
   "source": [
    "df['HasCabin'] = df['Cabin'].notnull().astype(int)\n",
    "\n",
    "df_test['HasCabin'] = df_test['Cabin'].notnull().astype(int)"
   ]
  },
  {
   "cell_type": "markdown",
   "metadata": {
    "jp-MarkdownHeadingCollapsed": true
   },
   "source": [
    "## **TARGET VARIABLE ANALYSIS**"
   ]
  },
  {
   "cell_type": "code",
   "execution_count": 59,
   "metadata": {},
   "outputs": [
    {
     "data": {
      "image/png": "[encoded data removed]",
      "text/plain": [
       "<Figure size 800x500 with 1 Axes>"
      ]
     },
     "metadata": {},
     "output_type": "display_data"
    }
   ],
   "source": [
    "CountPlot(df['Survived'], \"Target Variable Histogram\", 8, 5)"
   ]
  },
  {
   "cell_type": "markdown",
   "metadata": {
    "jp-MarkdownHeadingCollapsed": true
   },
   "source": [
    "## **NORMALIZATION**"
   ]
  },
  {
   "cell_type": "code",
   "execution_count": 61,
   "metadata": {},
   "outputs": [
    {
     "data": {
      "text/html": [
       "<div>\n",
       "<style scoped>\n",
       "    .dataframe tbody tr th:only-of-type {\n",
       "        vertical-align: middle;\n",
       "    }\n",
       "\n",
       "    .dataframe tbody tr th {\n",
       "        vertical-align: top;\n",
       "    }\n",
       "\n",
       "    .dataframe thead th {\n",
       "        text-align: right;\n",
       "    }\n",
       "</style>\n",
       "<table border=\"1\" class=\"dataframe\">\n",
       "  <thead>\n",
       "    <tr style=\"text-align: right;\">\n",
       "      <th></th>\n",
       "      <th>PassengerId</th>\n",
       "      <th>Survived</th>\n",
       "      <th>Pclass</th>\n",
       "      <th>Name</th>\n",
       "      <th>Sex</th>\n",
       "      <th>Age</th>\n",
       "      <th>SibSp</th>\n",
       "      <th>Parch</th>\n",
       "      <th>Ticket</th>\n",
       "      <th>Fare</th>\n",
       "      <th>Cabin</th>\n",
       "      <th>Embarked</th>\n",
       "      <th>Fare_log</th>\n",
       "      <th>Pclass_1</th>\n",
       "      <th>Pclass_2</th>\n",
       "      <th>Pclass_3</th>\n",
       "      <th>Pclass_E</th>\n",
       "      <th>IsMale</th>\n",
       "      <th>Embarked_C</th>\n",
       "      <th>Embarked_Q</th>\n",
       "      <th>Embarked_S</th>\n",
       "      <th>Embarked_E</th>\n",
       "      <th>IsAgeEstimated</th>\n",
       "      <th>Stage</th>\n",
       "      <th>Stage_E</th>\n",
       "      <th>FreeFare</th>\n",
       "      <th>IsSingle</th>\n",
       "      <th>FarePerPerson</th>\n",
       "      <th>FamilySize</th>\n",
       "      <th>IsAlone</th>\n",
       "      <th>Title</th>\n",
       "      <th>Title_E</th>\n",
       "      <th>Deck</th>\n",
       "      <th>Deck_E</th>\n",
       "      <th>HasCabin</th>\n",
       "    </tr>\n",
       "  </thead>\n",
       "  <tbody>\n",
       "    <tr>\n",
       "      <th>0</th>\n",
       "      <td>1</td>\n",
       "      <td>0</td>\n",
       "      <td>3</td>\n",
       "      <td>Braund, Mr. Owen Harris</td>\n",
       "      <td>male</td>\n",
       "      <td>22.0</td>\n",
       "      <td>1</td>\n",
       "      <td>0</td>\n",
       "      <td>A/5 21171</td>\n",
       "      <td>7.2500</td>\n",
       "      <td>NaN</td>\n",
       "      <td>S</td>\n",
       "      <td>2.110213</td>\n",
       "      <td>0.0</td>\n",
       "      <td>0.0</td>\n",
       "      <td>1.0</td>\n",
       "      <td>0.251948</td>\n",
       "      <td>1.0</td>\n",
       "      <td>0.0</td>\n",
       "      <td>0.0</td>\n",
       "      <td>1.0</td>\n",
       "      <td>0.339114</td>\n",
       "      <td>0.0</td>\n",
       "      <td>Adult</td>\n",
       "      <td>0.370884</td>\n",
       "      <td>0.0</td>\n",
       "      <td>0.0</td>\n",
       "      <td>7.2500</td>\n",
       "      <td>2</td>\n",
       "      <td>0</td>\n",
       "      <td>Mr</td>\n",
       "      <td>0.167866</td>\n",
       "      <td>U</td>\n",
       "      <td>0.302198</td>\n",
       "      <td>0</td>\n",
       "    </tr>\n",
       "    <tr>\n",
       "      <th>1</th>\n",
       "      <td>2</td>\n",
       "      <td>1</td>\n",
       "      <td>1</td>\n",
       "      <td>Cumings, Mrs. John Bradley (Florence Briggs Th...</td>\n",
       "      <td>female</td>\n",
       "      <td>38.0</td>\n",
       "      <td>1</td>\n",
       "      <td>0</td>\n",
       "      <td>PC 17599</td>\n",
       "      <td>71.2833</td>\n",
       "      <td>C85</td>\n",
       "      <td>C</td>\n",
       "      <td>4.280593</td>\n",
       "      <td>1.0</td>\n",
       "      <td>0.0</td>\n",
       "      <td>0.0</td>\n",
       "      <td>0.652439</td>\n",
       "      <td>0.0</td>\n",
       "      <td>1.0</td>\n",
       "      <td>0.0</td>\n",
       "      <td>0.0</td>\n",
       "      <td>0.592000</td>\n",
       "      <td>0.0</td>\n",
       "      <td>Adult</td>\n",
       "      <td>0.369863</td>\n",
       "      <td>0.0</td>\n",
       "      <td>0.0</td>\n",
       "      <td>71.2833</td>\n",
       "      <td>2</td>\n",
       "      <td>0</td>\n",
       "      <td>Mrs</td>\n",
       "      <td>0.790000</td>\n",
       "      <td>C</td>\n",
       "      <td>0.577778</td>\n",
       "      <td>1</td>\n",
       "    </tr>\n",
       "    <tr>\n",
       "      <th>2</th>\n",
       "      <td>3</td>\n",
       "      <td>1</td>\n",
       "      <td>3</td>\n",
       "      <td>Heikkinen, Miss. Laina</td>\n",
       "      <td>female</td>\n",
       "      <td>26.0</td>\n",
       "      <td>0</td>\n",
       "      <td>0</td>\n",
       "      <td>STON/O2. 3101282</td>\n",
       "      <td>7.9250</td>\n",
       "      <td>NaN</td>\n",
       "      <td>S</td>\n",
       "      <td>2.188856</td>\n",
       "      <td>0.0</td>\n",
       "      <td>0.0</td>\n",
       "      <td>1.0</td>\n",
       "      <td>0.245478</td>\n",
       "      <td>0.0</td>\n",
       "      <td>0.0</td>\n",
       "      <td>0.0</td>\n",
       "      <td>1.0</td>\n",
       "      <td>0.339250</td>\n",
       "      <td>0.0</td>\n",
       "      <td>Adult</td>\n",
       "      <td>0.363946</td>\n",
       "      <td>0.0</td>\n",
       "      <td>1.0</td>\n",
       "      <td>7.9250</td>\n",
       "      <td>1</td>\n",
       "      <td>1</td>\n",
       "      <td>Miss</td>\n",
       "      <td>0.720280</td>\n",
       "      <td>U</td>\n",
       "      <td>0.298535</td>\n",
       "      <td>0</td>\n",
       "    </tr>\n",
       "    <tr>\n",
       "      <th>3</th>\n",
       "      <td>4</td>\n",
       "      <td>1</td>\n",
       "      <td>1</td>\n",
       "      <td>Futrelle, Mrs. Jacques Heath (Lily May Peel)</td>\n",
       "      <td>female</td>\n",
       "      <td>35.0</td>\n",
       "      <td>1</td>\n",
       "      <td>0</td>\n",
       "      <td>113803</td>\n",
       "      <td>53.1000</td>\n",
       "      <td>C123</td>\n",
       "      <td>S</td>\n",
       "      <td>3.990834</td>\n",
       "      <td>1.0</td>\n",
       "      <td>0.0</td>\n",
       "      <td>0.0</td>\n",
       "      <td>0.620112</td>\n",
       "      <td>0.0</td>\n",
       "      <td>0.0</td>\n",
       "      <td>0.0</td>\n",
       "      <td>1.0</td>\n",
       "      <td>0.339250</td>\n",
       "      <td>0.0</td>\n",
       "      <td>Adult</td>\n",
       "      <td>0.363946</td>\n",
       "      <td>0.0</td>\n",
       "      <td>0.0</td>\n",
       "      <td>26.5500</td>\n",
       "      <td>2</td>\n",
       "      <td>0</td>\n",
       "      <td>Mrs</td>\n",
       "      <td>0.801980</td>\n",
       "      <td>C</td>\n",
       "      <td>0.600000</td>\n",
       "      <td>1</td>\n",
       "    </tr>\n",
       "    <tr>\n",
       "      <th>4</th>\n",
       "      <td>5</td>\n",
       "      <td>0</td>\n",
       "      <td>3</td>\n",
       "      <td>Allen, Mr. William Henry</td>\n",
       "      <td>male</td>\n",
       "      <td>35.0</td>\n",
       "      <td>0</td>\n",
       "      <td>0</td>\n",
       "      <td>373450</td>\n",
       "      <td>8.0500</td>\n",
       "      <td>NaN</td>\n",
       "      <td>S</td>\n",
       "      <td>2.202765</td>\n",
       "      <td>0.0</td>\n",
       "      <td>0.0</td>\n",
       "      <td>1.0</td>\n",
       "      <td>0.251948</td>\n",
       "      <td>1.0</td>\n",
       "      <td>0.0</td>\n",
       "      <td>0.0</td>\n",
       "      <td>1.0</td>\n",
       "      <td>0.339114</td>\n",
       "      <td>0.0</td>\n",
       "      <td>Adult</td>\n",
       "      <td>0.370884</td>\n",
       "      <td>0.0</td>\n",
       "      <td>1.0</td>\n",
       "      <td>8.0500</td>\n",
       "      <td>1</td>\n",
       "      <td>1</td>\n",
       "      <td>Mr</td>\n",
       "      <td>0.167866</td>\n",
       "      <td>U</td>\n",
       "      <td>0.302198</td>\n",
       "      <td>0</td>\n",
       "    </tr>\n",
       "  </tbody>\n",
       "</table>\n",
       "</div>"
      ],
      "text/plain": [
       "   PassengerId  Survived  Pclass  \\\n",
       "0            1         0       3   \n",
       "1            2         1       1   \n",
       "2            3         1       3   \n",
       "3            4         1       1   \n",
       "4            5         0       3   \n",
       "\n",
       "                                                Name     Sex   Age  SibSp  \\\n",
       "0                            Braund, Mr. Owen Harris    male  22.0      1   \n",
       "1  Cumings, Mrs. John Bradley (Florence Briggs Th...  female  38.0      1   \n",
       "2                             Heikkinen, Miss. Laina  female  26.0      0   \n",
       "3       Futrelle, Mrs. Jacques Heath (Lily May Peel)  female  35.0      1   \n",
       "4                           Allen, Mr. William Henry    male  35.0      0   \n",
       "\n",
       "   Parch            Ticket     Fare Cabin Embarked  Fare_log  Pclass_1  \\\n",
       "0      0         A/5 21171   7.2500   NaN        S  2.110213       0.0   \n",
       "1      0          PC 17599  71.2833   C85        C  4.280593       1.0   \n",
       "2      0  STON/O2. 3101282   7.9250   NaN        S  2.188856       0.0   \n",
       "3      0            113803  53.1000  C123        S  3.990834       1.0   \n",
       "4      0            373450   8.0500   NaN        S  2.202765       0.0   \n",
       "\n",
       "   Pclass_2  Pclass_3  Pclass_E  IsMale  Embarked_C  Embarked_Q  Embarked_S  \\\n",
       "0       0.0       1.0  0.251948     1.0         0.0         0.0         1.0   \n",
       "1       0.0       0.0  0.652439     0.0         1.0         0.0         0.0   \n",
       "2       0.0       1.0  0.245478     0.0         0.0         0.0         1.0   \n",
       "3       0.0       0.0  0.620112     0.0         0.0         0.0         1.0   \n",
       "4       0.0       1.0  0.251948     1.0         0.0         0.0         1.0   \n",
       "\n",
       "   Embarked_E  IsAgeEstimated  Stage   Stage_E  FreeFare  IsSingle  \\\n",
       "0    0.339114             0.0  Adult  0.370884       0.0       0.0   \n",
       "1    0.592000             0.0  Adult  0.369863       0.0       0.0   \n",
       "2    0.339250             0.0  Adult  0.363946       0.0       1.0   \n",
       "3    0.339250             0.0  Adult  0.363946       0.0       0.0   \n",
       "4    0.339114             0.0  Adult  0.370884       0.0       1.0   \n",
       "\n",
       "   FarePerPerson  FamilySize  IsAlone Title   Title_E Deck    Deck_E  HasCabin  \n",
       "0         7.2500           2        0    Mr  0.167866    U  0.302198         0  \n",
       "1        71.2833           2        0   Mrs  0.790000    C  0.577778         1  \n",
       "2         7.9250           1        1  Miss  0.720280    U  0.298535         0  \n",
       "3        26.5500           2        0   Mrs  0.801980    C  0.600000         1  \n",
       "4         8.0500           1        1    Mr  0.167866    U  0.302198         0  "
      ]
     },
     "execution_count": 61,
     "metadata": {},
     "output_type": "execute_result"
    }
   ],
   "source": [
    "df.head()"
   ]
  },
  {
   "cell_type": "markdown",
   "metadata": {},
   "source": [
    "## **CORRELATION**"
   ]
  },
  {
   "cell_type": "code",
   "execution_count": 75,
   "metadata": {},
   "outputs": [
    {
     "name": "stdout",
     "output_type": "stream",
     "text": [
      "GradientBoostingClassifier: 0.8134328358208955\n",
      "CatBoostClassifier: 0.8171641791044776\n",
      "XGBoostClassifier: 0.8208955223880597\n",
      "LightGBMClassifier: 0.8171641791044776 \n",
      "\n"
     ]
    }
   ],
   "source": [
    "columns1 = ['PassengerId', 'Survived', 'Pclass', 'Name', 'Sex', 'Ticket', 'Cabin', 'Embarked', 'Pclass_1', 'Pclass_2',\n",
    "           'Pclass_3', 'Embarked_C', 'Embarked_Q', 'Embarked_S', 'Stage', 'Title', 'Deck']\n",
    "\n",
    "x_data = df.drop(columns = columns1, axis = 1).copy()\n",
    "y_data = df[['Survived']].copy()\n",
    "\n",
    "x_train, x_test, y_train, y_test = train_test_split(x_data, y_data, test_size=0.30, random_state=13)\n",
    "\n",
    "gbc = GradientBoostingClassifier()\n",
    "gbc.fit(x_train, y_train)\n",
    "yhat1 = gbc.predict(x_test)\n",
    "\n",
    "cbc = CatBoostClassifier(verbose = 0)\n",
    "cbc.fit(x_train, y_train)\n",
    "yhat2 = cbc.predict(x_test)\n",
    "\n",
    "xgbc = xgb.XGBClassifier()\n",
    "xgbc.fit(x_train, y_train)\n",
    "yhat3 = xgbc.predict(x_test)\n",
    "\n",
    "lgbm = LGBMClassifier(verbose = -1)\n",
    "lgbm.fit(x_train, y_train)\n",
    "yhat4 = lgbm.predict(x_test)\n",
    "\n",
    "print(\"GradientBoostingClassifier:\", accuracy_score(y_test, yhat1))\n",
    "print(\"CatBoostClassifier:\", accuracy_score(y_test, yhat2))\n",
    "print(\"XGBoostClassifier:\", accuracy_score(y_test, yhat3))\n",
    "print(\"LightGBMClassifier:\", accuracy_score(y_test, yhat4), \"\\n\")"
   ]
  },
  {
   "cell_type": "code",
   "execution_count": 77,
   "metadata": {},
   "outputs": [
    {
     "name": "stdout",
     "output_type": "stream",
     "text": [
      "GradientBoostingClassifier: 0.8134328358208955\n",
      "CatBoostClassifier: 0.8134328358208955\n",
      "XGBoostClassifier: 0.8246268656716418\n",
      "LightGBMClassifier: 0.8059701492537313 \n",
      "\n"
     ]
    }
   ],
   "source": [
    "columns2 = ['PassengerId', 'Survived', 'Pclass', 'Name', 'Sex', 'Ticket', 'Cabin', 'Embarked', 'Pclass_E',\n",
    "           'Embarked_E', 'Stage', 'Title', 'Deck']\n",
    "\n",
    "x_data2 = df.drop(columns = columns2, axis = 1).copy()\n",
    "y_data2 = df[['Survived']].copy()\n",
    "\n",
    "x_train, x_test, y_train, y_test = train_test_split(x_data2, y_data2, test_size=0.30, random_state=13)\n",
    "\n",
    "gbc2 = GradientBoostingClassifier()\n",
    "gbc2.fit(x_train, y_train)\n",
    "yhat1 = gbc2.predict(x_test)\n",
    "\n",
    "cbc2 = CatBoostClassifier(verbose = 0)\n",
    "cbc2.fit(x_train, y_train)\n",
    "yhat2 = cbc2.predict(x_test)\n",
    "\n",
    "xgbc2 = xgb.XGBClassifier()\n",
    "xgbc2.fit(x_train, y_train)\n",
    "yhat3 = xgbc2.predict(x_test)\n",
    "\n",
    "lgbm2 = LGBMClassifier(verbose = -1)\n",
    "lgbm2.fit(x_train, y_train)\n",
    "yhat4 = lgbm2.predict(x_test)\n",
    "\n",
    "print(\"GradientBoostingClassifier:\", accuracy_score(y_test, yhat1))\n",
    "print(\"CatBoostClassifier:\", accuracy_score(y_test, yhat2))\n",
    "print(\"XGBoostClassifier:\", accuracy_score(y_test, yhat3))\n",
    "print(\"LightGBMClassifier:\", accuracy_score(y_test, yhat4), \"\\n\")"
   ]
  },
  {
   "cell_type": "code",
   "execution_count": 78,
   "metadata": {},
   "outputs": [
    {
     "data": {
      "text/html": [
       "<div>\n",
       "<style scoped>\n",
       "    .dataframe tbody tr th:only-of-type {\n",
       "        vertical-align: middle;\n",
       "    }\n",
       "\n",
       "    .dataframe tbody tr th {\n",
       "        vertical-align: top;\n",
       "    }\n",
       "\n",
       "    .dataframe thead th {\n",
       "        text-align: right;\n",
       "    }\n",
       "</style>\n",
       "<table border=\"1\" class=\"dataframe\">\n",
       "  <thead>\n",
       "    <tr style=\"text-align: right;\">\n",
       "      <th></th>\n",
       "      <th>Feature</th>\n",
       "      <th>GBC_Importance</th>\n",
       "      <th>CBC_Importance</th>\n",
       "      <th>LGBMC_Importance</th>\n",
       "    </tr>\n",
       "  </thead>\n",
       "  <tbody>\n",
       "    <tr>\n",
       "      <th>6</th>\n",
       "      <td>IsMale</td>\n",
       "      <td>2.662573e-01</td>\n",
       "      <td>14.870854</td>\n",
       "      <td>44</td>\n",
       "    </tr>\n",
       "    <tr>\n",
       "      <th>15</th>\n",
       "      <td>Title_E</td>\n",
       "      <td>1.930430e-01</td>\n",
       "      <td>16.082753</td>\n",
       "      <td>170</td>\n",
       "    </tr>\n",
       "    <tr>\n",
       "      <th>12</th>\n",
       "      <td>FarePerPerson</td>\n",
       "      <td>9.931361e-02</td>\n",
       "      <td>9.868254</td>\n",
       "      <td>391</td>\n",
       "    </tr>\n",
       "    <tr>\n",
       "      <th>0</th>\n",
       "      <td>Age</td>\n",
       "      <td>9.526372e-02</td>\n",
       "      <td>11.488434</td>\n",
       "      <td>571</td>\n",
       "    </tr>\n",
       "    <tr>\n",
       "      <th>5</th>\n",
       "      <td>Pclass_E</td>\n",
       "      <td>8.575582e-02</td>\n",
       "      <td>8.364480</td>\n",
       "      <td>173</td>\n",
       "    </tr>\n",
       "    <tr>\n",
       "      <th>1</th>\n",
       "      <td>SibSp</td>\n",
       "      <td>6.060339e-02</td>\n",
       "      <td>3.193308</td>\n",
       "      <td>49</td>\n",
       "    </tr>\n",
       "    <tr>\n",
       "      <th>4</th>\n",
       "      <td>Fare_log</td>\n",
       "      <td>4.421824e-02</td>\n",
       "      <td>5.478221</td>\n",
       "      <td>0</td>\n",
       "    </tr>\n",
       "    <tr>\n",
       "      <th>16</th>\n",
       "      <td>Deck_E</td>\n",
       "      <td>4.246418e-02</td>\n",
       "      <td>6.192484</td>\n",
       "      <td>157</td>\n",
       "    </tr>\n",
       "    <tr>\n",
       "      <th>13</th>\n",
       "      <td>FamilySize</td>\n",
       "      <td>3.965670e-02</td>\n",
       "      <td>3.145980</td>\n",
       "      <td>26</td>\n",
       "    </tr>\n",
       "    <tr>\n",
       "      <th>7</th>\n",
       "      <td>Embarked_E</td>\n",
       "      <td>3.858251e-02</td>\n",
       "      <td>5.085242</td>\n",
       "      <td>191</td>\n",
       "    </tr>\n",
       "    <tr>\n",
       "      <th>3</th>\n",
       "      <td>Fare</td>\n",
       "      <td>2.183743e-02</td>\n",
       "      <td>6.184674</td>\n",
       "      <td>438</td>\n",
       "    </tr>\n",
       "    <tr>\n",
       "      <th>9</th>\n",
       "      <td>Stage_E</td>\n",
       "      <td>7.641735e-03</td>\n",
       "      <td>3.190379</td>\n",
       "      <td>71</td>\n",
       "    </tr>\n",
       "    <tr>\n",
       "      <th>2</th>\n",
       "      <td>Parch</td>\n",
       "      <td>4.139923e-03</td>\n",
       "      <td>1.671146</td>\n",
       "      <td>27</td>\n",
       "    </tr>\n",
       "    <tr>\n",
       "      <th>11</th>\n",
       "      <td>IsSingle</td>\n",
       "      <td>7.397737e-04</td>\n",
       "      <td>2.120142</td>\n",
       "      <td>45</td>\n",
       "    </tr>\n",
       "    <tr>\n",
       "      <th>8</th>\n",
       "      <td>IsAgeEstimated</td>\n",
       "      <td>3.844588e-04</td>\n",
       "      <td>0.713603</td>\n",
       "      <td>20</td>\n",
       "    </tr>\n",
       "    <tr>\n",
       "      <th>10</th>\n",
       "      <td>FreeFare</td>\n",
       "      <td>6.945406e-05</td>\n",
       "      <td>0.065040</td>\n",
       "      <td>0</td>\n",
       "    </tr>\n",
       "    <tr>\n",
       "      <th>17</th>\n",
       "      <td>HasCabin</td>\n",
       "      <td>2.842844e-05</td>\n",
       "      <td>1.974617</td>\n",
       "      <td>0</td>\n",
       "    </tr>\n",
       "    <tr>\n",
       "      <th>14</th>\n",
       "      <td>IsAlone</td>\n",
       "      <td>4.153907e-07</td>\n",
       "      <td>0.310386</td>\n",
       "      <td>2</td>\n",
       "    </tr>\n",
       "  </tbody>\n",
       "</table>\n",
       "</div>"
      ],
      "text/plain": [
       "           Feature  GBC_Importance  CBC_Importance  LGBMC_Importance\n",
       "6           IsMale    2.662573e-01       14.870854                44\n",
       "15         Title_E    1.930430e-01       16.082753               170\n",
       "12   FarePerPerson    9.931361e-02        9.868254               391\n",
       "0              Age    9.526372e-02       11.488434               571\n",
       "5         Pclass_E    8.575582e-02        8.364480               173\n",
       "1            SibSp    6.060339e-02        3.193308                49\n",
       "4         Fare_log    4.421824e-02        5.478221                 0\n",
       "16          Deck_E    4.246418e-02        6.192484               157\n",
       "13      FamilySize    3.965670e-02        3.145980                26\n",
       "7       Embarked_E    3.858251e-02        5.085242               191\n",
       "3             Fare    2.183743e-02        6.184674               438\n",
       "9          Stage_E    7.641735e-03        3.190379                71\n",
       "2            Parch    4.139923e-03        1.671146                27\n",
       "11        IsSingle    7.397737e-04        2.120142                45\n",
       "8   IsAgeEstimated    3.844588e-04        0.713603                20\n",
       "10        FreeFare    6.945406e-05        0.065040                 0\n",
       "17        HasCabin    2.842844e-05        1.974617                 0\n",
       "14         IsAlone    4.153907e-07        0.310386                 2"
      ]
     },
     "execution_count": 78,
     "metadata": {},
     "output_type": "execute_result"
    }
   ],
   "source": [
    "feature_importances = pd.DataFrame({'Feature': x_data.columns,\n",
    "                                    'GBC_Importance': gbc.feature_importances_,\n",
    "                                    'CBC_Importance': cbc.feature_importances_,\n",
    "                                    'LGBMC_Importance': lgbm.feature_importances_\n",
    "                                   })\n",
    "feature_importances = feature_importances.sort_values(by='GBC_Importance', ascending=False)\n",
    "\n",
    "feature_importances"
   ]
  },
  {
   "cell_type": "code",
   "execution_count": 83,
   "metadata": {},
   "outputs": [
    {
     "data": {
      "text/html": [
       "<div>\n",
       "<style scoped>\n",
       "    .dataframe tbody tr th:only-of-type {\n",
       "        vertical-align: middle;\n",
       "    }\n",
       "\n",
       "    .dataframe tbody tr th {\n",
       "        vertical-align: top;\n",
       "    }\n",
       "\n",
       "    .dataframe thead th {\n",
       "        text-align: right;\n",
       "    }\n",
       "</style>\n",
       "<table border=\"1\" class=\"dataframe\">\n",
       "  <thead>\n",
       "    <tr style=\"text-align: right;\">\n",
       "      <th></th>\n",
       "      <th>Feature</th>\n",
       "      <th>XGBC_Importance</th>\n",
       "    </tr>\n",
       "  </thead>\n",
       "  <tbody>\n",
       "    <tr>\n",
       "      <th>19</th>\n",
       "      <td>Title_E</td>\n",
       "      <td>0.193001</td>\n",
       "    </tr>\n",
       "    <tr>\n",
       "      <th>7</th>\n",
       "      <td>Pclass_3</td>\n",
       "      <td>0.186448</td>\n",
       "    </tr>\n",
       "    <tr>\n",
       "      <th>1</th>\n",
       "      <td>SibSp</td>\n",
       "      <td>0.125590</td>\n",
       "    </tr>\n",
       "    <tr>\n",
       "      <th>17</th>\n",
       "      <td>FamilySize</td>\n",
       "      <td>0.095521</td>\n",
       "    </tr>\n",
       "    <tr>\n",
       "      <th>8</th>\n",
       "      <td>IsMale</td>\n",
       "      <td>0.068654</td>\n",
       "    </tr>\n",
       "    <tr>\n",
       "      <th>15</th>\n",
       "      <td>IsSingle</td>\n",
       "      <td>0.050555</td>\n",
       "    </tr>\n",
       "    <tr>\n",
       "      <th>11</th>\n",
       "      <td>Embarked_S</td>\n",
       "      <td>0.039733</td>\n",
       "    </tr>\n",
       "    <tr>\n",
       "      <th>20</th>\n",
       "      <td>Deck_E</td>\n",
       "      <td>0.037599</td>\n",
       "    </tr>\n",
       "    <tr>\n",
       "      <th>16</th>\n",
       "      <td>FarePerPerson</td>\n",
       "      <td>0.037236</td>\n",
       "    </tr>\n",
       "    <tr>\n",
       "      <th>0</th>\n",
       "      <td>Age</td>\n",
       "      <td>0.030753</td>\n",
       "    </tr>\n",
       "    <tr>\n",
       "      <th>13</th>\n",
       "      <td>Stage_E</td>\n",
       "      <td>0.025402</td>\n",
       "    </tr>\n",
       "    <tr>\n",
       "      <th>9</th>\n",
       "      <td>Embarked_C</td>\n",
       "      <td>0.024686</td>\n",
       "    </tr>\n",
       "    <tr>\n",
       "      <th>3</th>\n",
       "      <td>Fare</td>\n",
       "      <td>0.024534</td>\n",
       "    </tr>\n",
       "    <tr>\n",
       "      <th>2</th>\n",
       "      <td>Parch</td>\n",
       "      <td>0.019327</td>\n",
       "    </tr>\n",
       "    <tr>\n",
       "      <th>6</th>\n",
       "      <td>Pclass_2</td>\n",
       "      <td>0.017452</td>\n",
       "    </tr>\n",
       "    <tr>\n",
       "      <th>10</th>\n",
       "      <td>Embarked_Q</td>\n",
       "      <td>0.011785</td>\n",
       "    </tr>\n",
       "    <tr>\n",
       "      <th>12</th>\n",
       "      <td>IsAgeEstimated</td>\n",
       "      <td>0.011722</td>\n",
       "    </tr>\n",
       "    <tr>\n",
       "      <th>14</th>\n",
       "      <td>FreeFare</td>\n",
       "      <td>0.000000</td>\n",
       "    </tr>\n",
       "    <tr>\n",
       "      <th>5</th>\n",
       "      <td>Pclass_1</td>\n",
       "      <td>0.000000</td>\n",
       "    </tr>\n",
       "    <tr>\n",
       "      <th>4</th>\n",
       "      <td>Fare_log</td>\n",
       "      <td>0.000000</td>\n",
       "    </tr>\n",
       "    <tr>\n",
       "      <th>18</th>\n",
       "      <td>IsAlone</td>\n",
       "      <td>0.000000</td>\n",
       "    </tr>\n",
       "    <tr>\n",
       "      <th>21</th>\n",
       "      <td>HasCabin</td>\n",
       "      <td>0.000000</td>\n",
       "    </tr>\n",
       "  </tbody>\n",
       "</table>\n",
       "</div>"
      ],
      "text/plain": [
       "           Feature  XGBC_Importance\n",
       "19         Title_E         0.193001\n",
       "7         Pclass_3         0.186448\n",
       "1            SibSp         0.125590\n",
       "17      FamilySize         0.095521\n",
       "8           IsMale         0.068654\n",
       "15        IsSingle         0.050555\n",
       "11      Embarked_S         0.039733\n",
       "20          Deck_E         0.037599\n",
       "16   FarePerPerson         0.037236\n",
       "0              Age         0.030753\n",
       "13         Stage_E         0.025402\n",
       "9       Embarked_C         0.024686\n",
       "3             Fare         0.024534\n",
       "2            Parch         0.019327\n",
       "6         Pclass_2         0.017452\n",
       "10      Embarked_Q         0.011785\n",
       "12  IsAgeEstimated         0.011722\n",
       "14        FreeFare         0.000000\n",
       "5         Pclass_1         0.000000\n",
       "4         Fare_log         0.000000\n",
       "18         IsAlone         0.000000\n",
       "21        HasCabin         0.000000"
      ]
     },
     "execution_count": 83,
     "metadata": {},
     "output_type": "execute_result"
    }
   ],
   "source": [
    "feature_importances = pd.DataFrame({'Feature': x_data2.columns,\n",
    "                                    'XGBC_Importance': xgbc2.feature_importances_,\n",
    "                                   })\n",
    "feature_importances = feature_importances.sort_values(by='XGBC_Importance', ascending=False)\n",
    "\n",
    "feature_importances"
   ]
  },
  {
   "cell_type": "code",
   "execution_count": 143,
   "metadata": {},
   "outputs": [
    {
     "name": "stdout",
     "output_type": "stream",
     "text": [
      "XGBoostClassifier: 0.8283582089552238 \n",
      "\n"
     ]
    }
   ],
   "source": [
    "features_gbc = ['IsMale', 'Title_E', 'FarePerPerson', 'Age', 'Pclass_E', 'SibSp', 'Fare_log', 'Deck_E', 'FamilySize', 'Embarked_E', 'Fare', 'Stage_E',\n",
    "                'Parch']\n",
    "\n",
    "\n",
    "x_data_gbc = df[features_gbc].copy()\n",
    "\n",
    "x_train_gbc, x_test_gbc, _, _ = train_test_split(x_data_gbc, y_data, test_size=0.30, random_state=13)\n",
    "\n",
    "gbc = GradientBoostingClassifier(random_state = 13)\n",
    "gbc.fit(x_train_gbc, y_train)\n",
    "yhat = gbc.predict(x_test_gbc)\n",
    "\n",
    "print(\"XGBoostClassifier:\", accuracy_score(y_test, yhat), \"\\n\")"
   ]
  },
  {
   "cell_type": "code",
   "execution_count": 157,
   "metadata": {},
   "outputs": [
    {
     "name": "stdout",
     "output_type": "stream",
     "text": [
      "CatBoostClassifier: 0.8208955223880597 \n",
      "\n"
     ]
    }
   ],
   "source": [
    "features_cbc = ['Title_E', 'IsMale', 'Age', 'FarePerPerson', 'Pclass_E', 'Deck_E', 'Fare', 'Fare_log', 'Embarked_E', 'SibSp', 'Stage_E', 'FamilySize',\n",
    "                'IsSingle', 'HasCabin']\n",
    "\n",
    "\n",
    "x_data_cbc = df[features_cbc].copy()\n",
    "\n",
    "x_train_cbc, x_test_cbc, _, _ = train_test_split(x_data_cbc, y_data, test_size=0.30, random_state=13)\n",
    "\n",
    "cbc = CatBoostClassifier(verbose = 0, random_state = 13)\n",
    "cbc.fit(x_train_cbc, y_train)\n",
    "yhat = cbc.predict(x_test_cbc)\n",
    "\n",
    "print(\"CatBoostClassifier:\", accuracy_score(y_test, yhat), \"\\n\")"
   ]
  },
  {
   "cell_type": "code",
   "execution_count": 167,
   "metadata": {},
   "outputs": [
    {
     "name": "stdout",
     "output_type": "stream",
     "text": [
      "LightGBMClassifier: 0.8171641791044776 \n",
      "\n"
     ]
    }
   ],
   "source": [
    "features_lgbmc = ['Age', 'Fare', 'FarePerPerson', 'Embarked_E', 'Pclass_E', 'Title_E', 'Deck_E', 'Stage_E', 'SibSp', 'IsSingle', 'IsMale', 'Parch',\n",
    "                  'FamilySize', 'IsAgeEstimated']\n",
    "\n",
    "\n",
    "x_data_lgbmc = df[features_lgbmc].copy()\n",
    "\n",
    "x_train_lgbmc, x_test_lgbmc, _, _ = train_test_split(x_data_lgbmc, y_data, test_size=0.30, random_state=13)\n",
    "\n",
    "lgbm = LGBMClassifier(verbose = -1, random_state=13)\n",
    "lgbm.fit(x_train_lgbmc, y_train)\n",
    "yhat = lgbm.predict(x_test_lgbmc)\n",
    "\n",
    "print(\"LightGBMClassifier:\", accuracy_score(y_test, yhat), \"\\n\")"
   ]
  },
  {
   "cell_type": "code",
   "execution_count": 145,
   "metadata": {},
   "outputs": [
    {
     "name": "stdout",
     "output_type": "stream",
     "text": [
      "XGBoostClassifier: 0.8395522388059702 \n",
      "\n"
     ]
    }
   ],
   "source": [
    "features_xbgc = ['Title_E', 'Pclass_3', 'SibSp', 'FamilySize', 'IsMale', 'IsSingle', 'Embarked_S', 'Deck_E', 'FarePerPerson', 'Age', 'Stage_E', 'Embarked_C',\n",
    "                 'Fare', 'Parch']\n",
    "\n",
    "\n",
    "x_data_xbgc = df[features_xbgc].copy()\n",
    "y_data = df[['Survived']].copy()\n",
    "\n",
    "x_train_xbgc, x_test_xbgc, y_train, y_test = train_test_split(x_data_xbgc, y_data, test_size=0.30, random_state=13)\n",
    "\n",
    "xgbc = xgb.XGBClassifier()\n",
    "xgbc.fit(x_train_xbgc, y_train)\n",
    "yhat = xgbc.predict(x_test_xbgc)\n",
    "\n",
    "print(\"XGBoostClassifier:\", accuracy_score(y_test, yhat), \"\\n\")"
   ]
  },
  {
   "cell_type": "markdown",
   "metadata": {},
   "source": [
    "# **SAVING PROCESSED DATASET**"
   ]
  },
  {
   "cell_type": "code",
   "execution_count": 186,
   "metadata": {},
   "outputs": [
    {
     "ename": "ValueError",
     "evalue": "All arrays must be of the same length",
     "output_type": "error",
     "traceback": [
      "\u001b[0;31m---------------------------------------------------------------------------\u001b[0m",
      "\u001b[0;31mValueError\u001b[0m                                Traceback (most recent call last)",
      "Cell \u001b[0;32mIn[186], line 4\u001b[0m\n\u001b[1;32m      1\u001b[0m features \u001b[38;5;241m=\u001b[39m {\u001b[38;5;124m\"\u001b[39m\u001b[38;5;124mfeatures_gbc\u001b[39m\u001b[38;5;124m\"\u001b[39m: features_gbc, \u001b[38;5;124m\"\u001b[39m\u001b[38;5;124mfeatures_cbc\u001b[39m\u001b[38;5;124m\"\u001b[39m: features_cbc, \u001b[38;5;124m\"\u001b[39m\u001b[38;5;124mfeatures_lgbmc\u001b[39m\u001b[38;5;124m\"\u001b[39m: features_lgbmc,\n\u001b[1;32m      2\u001b[0m             \u001b[38;5;124m\"\u001b[39m\u001b[38;5;124mfeatures_xbgc\u001b[39m\u001b[38;5;124m\"\u001b[39m: features_xbgc}\n\u001b[0;32m----> 4\u001b[0m features \u001b[38;5;241m=\u001b[39m pd\u001b[38;5;241m.\u001b[39mDataFrame\u001b[38;5;241m.\u001b[39mfrom_dict(features, orient \u001b[38;5;241m=\u001b[39m \u001b[38;5;124m'\u001b[39m\u001b[38;5;124mcolumns\u001b[39m\u001b[38;5;124m'\u001b[39m)\n\u001b[1;32m      6\u001b[0m features\u001b[38;5;241m.\u001b[39mto_csv(\u001b[38;5;124m'\u001b[39m\u001b[38;5;124m../data/processed/2.EDA_features\u001b[39m\u001b[38;5;124m'\u001b[39m, index \u001b[38;5;241m=\u001b[39m \u001b[38;5;28;01mFalse\u001b[39;00m)\n",
      "File \u001b[0;32m/opt/anaconda3/lib/python3.12/site-packages/pandas/core/frame.py:1917\u001b[0m, in \u001b[0;36mDataFrame.from_dict\u001b[0;34m(cls, data, orient, dtype, columns)\u001b[0m\n\u001b[1;32m   1911\u001b[0m     \u001b[38;5;28;01mraise\u001b[39;00m \u001b[38;5;167;01mValueError\u001b[39;00m(\n\u001b[1;32m   1912\u001b[0m         \u001b[38;5;124mf\u001b[39m\u001b[38;5;124m\"\u001b[39m\u001b[38;5;124mExpected \u001b[39m\u001b[38;5;124m'\u001b[39m\u001b[38;5;124mindex\u001b[39m\u001b[38;5;124m'\u001b[39m\u001b[38;5;124m, \u001b[39m\u001b[38;5;124m'\u001b[39m\u001b[38;5;124mcolumns\u001b[39m\u001b[38;5;124m'\u001b[39m\u001b[38;5;124m or \u001b[39m\u001b[38;5;124m'\u001b[39m\u001b[38;5;124mtight\u001b[39m\u001b[38;5;124m'\u001b[39m\u001b[38;5;124m for orient parameter. \u001b[39m\u001b[38;5;124m\"\u001b[39m\n\u001b[1;32m   1913\u001b[0m         \u001b[38;5;124mf\u001b[39m\u001b[38;5;124m\"\u001b[39m\u001b[38;5;124mGot \u001b[39m\u001b[38;5;124m'\u001b[39m\u001b[38;5;132;01m{\u001b[39;00morient\u001b[38;5;132;01m}\u001b[39;00m\u001b[38;5;124m'\u001b[39m\u001b[38;5;124m instead\u001b[39m\u001b[38;5;124m\"\u001b[39m\n\u001b[1;32m   1914\u001b[0m     )\n\u001b[1;32m   1916\u001b[0m \u001b[38;5;28;01mif\u001b[39;00m orient \u001b[38;5;241m!=\u001b[39m \u001b[38;5;124m\"\u001b[39m\u001b[38;5;124mtight\u001b[39m\u001b[38;5;124m\"\u001b[39m:\n\u001b[0;32m-> 1917\u001b[0m     \u001b[38;5;28;01mreturn\u001b[39;00m \u001b[38;5;28mcls\u001b[39m(data, index\u001b[38;5;241m=\u001b[39mindex, columns\u001b[38;5;241m=\u001b[39mcolumns, dtype\u001b[38;5;241m=\u001b[39mdtype)\n\u001b[1;32m   1918\u001b[0m \u001b[38;5;28;01melse\u001b[39;00m:\n\u001b[1;32m   1919\u001b[0m     realdata \u001b[38;5;241m=\u001b[39m data[\u001b[38;5;124m\"\u001b[39m\u001b[38;5;124mdata\u001b[39m\u001b[38;5;124m\"\u001b[39m]\n",
      "File \u001b[0;32m/opt/anaconda3/lib/python3.12/site-packages/pandas/core/frame.py:778\u001b[0m, in \u001b[0;36mDataFrame.__init__\u001b[0;34m(self, data, index, columns, dtype, copy)\u001b[0m\n\u001b[1;32m    772\u001b[0m     mgr \u001b[38;5;241m=\u001b[39m \u001b[38;5;28mself\u001b[39m\u001b[38;5;241m.\u001b[39m_init_mgr(\n\u001b[1;32m    773\u001b[0m         data, axes\u001b[38;5;241m=\u001b[39m{\u001b[38;5;124m\"\u001b[39m\u001b[38;5;124mindex\u001b[39m\u001b[38;5;124m\"\u001b[39m: index, \u001b[38;5;124m\"\u001b[39m\u001b[38;5;124mcolumns\u001b[39m\u001b[38;5;124m\"\u001b[39m: columns}, dtype\u001b[38;5;241m=\u001b[39mdtype, copy\u001b[38;5;241m=\u001b[39mcopy\n\u001b[1;32m    774\u001b[0m     )\n\u001b[1;32m    776\u001b[0m \u001b[38;5;28;01melif\u001b[39;00m \u001b[38;5;28misinstance\u001b[39m(data, \u001b[38;5;28mdict\u001b[39m):\n\u001b[1;32m    777\u001b[0m     \u001b[38;5;66;03m# GH#38939 de facto copy defaults to False only in non-dict cases\u001b[39;00m\n\u001b[0;32m--> 778\u001b[0m     mgr \u001b[38;5;241m=\u001b[39m dict_to_mgr(data, index, columns, dtype\u001b[38;5;241m=\u001b[39mdtype, copy\u001b[38;5;241m=\u001b[39mcopy, typ\u001b[38;5;241m=\u001b[39mmanager)\n\u001b[1;32m    779\u001b[0m \u001b[38;5;28;01melif\u001b[39;00m \u001b[38;5;28misinstance\u001b[39m(data, ma\u001b[38;5;241m.\u001b[39mMaskedArray):\n\u001b[1;32m    780\u001b[0m     \u001b[38;5;28;01mfrom\u001b[39;00m \u001b[38;5;21;01mnumpy\u001b[39;00m\u001b[38;5;21;01m.\u001b[39;00m\u001b[38;5;21;01mma\u001b[39;00m \u001b[38;5;28;01mimport\u001b[39;00m mrecords\n",
      "File \u001b[0;32m/opt/anaconda3/lib/python3.12/site-packages/pandas/core/internals/construction.py:503\u001b[0m, in \u001b[0;36mdict_to_mgr\u001b[0;34m(data, index, columns, dtype, typ, copy)\u001b[0m\n\u001b[1;32m    499\u001b[0m     \u001b[38;5;28;01melse\u001b[39;00m:\n\u001b[1;32m    500\u001b[0m         \u001b[38;5;66;03m# dtype check to exclude e.g. range objects, scalars\u001b[39;00m\n\u001b[1;32m    501\u001b[0m         arrays \u001b[38;5;241m=\u001b[39m [x\u001b[38;5;241m.\u001b[39mcopy() \u001b[38;5;28;01mif\u001b[39;00m \u001b[38;5;28mhasattr\u001b[39m(x, \u001b[38;5;124m\"\u001b[39m\u001b[38;5;124mdtype\u001b[39m\u001b[38;5;124m\"\u001b[39m) \u001b[38;5;28;01melse\u001b[39;00m x \u001b[38;5;28;01mfor\u001b[39;00m x \u001b[38;5;129;01min\u001b[39;00m arrays]\n\u001b[0;32m--> 503\u001b[0m \u001b[38;5;28;01mreturn\u001b[39;00m arrays_to_mgr(arrays, columns, index, dtype\u001b[38;5;241m=\u001b[39mdtype, typ\u001b[38;5;241m=\u001b[39mtyp, consolidate\u001b[38;5;241m=\u001b[39mcopy)\n",
      "File \u001b[0;32m/opt/anaconda3/lib/python3.12/site-packages/pandas/core/internals/construction.py:114\u001b[0m, in \u001b[0;36marrays_to_mgr\u001b[0;34m(arrays, columns, index, dtype, verify_integrity, typ, consolidate)\u001b[0m\n\u001b[1;32m    111\u001b[0m \u001b[38;5;28;01mif\u001b[39;00m verify_integrity:\n\u001b[1;32m    112\u001b[0m     \u001b[38;5;66;03m# figure out the index, if necessary\u001b[39;00m\n\u001b[1;32m    113\u001b[0m     \u001b[38;5;28;01mif\u001b[39;00m index \u001b[38;5;129;01mis\u001b[39;00m \u001b[38;5;28;01mNone\u001b[39;00m:\n\u001b[0;32m--> 114\u001b[0m         index \u001b[38;5;241m=\u001b[39m _extract_index(arrays)\n\u001b[1;32m    115\u001b[0m     \u001b[38;5;28;01melse\u001b[39;00m:\n\u001b[1;32m    116\u001b[0m         index \u001b[38;5;241m=\u001b[39m ensure_index(index)\n",
      "File \u001b[0;32m/opt/anaconda3/lib/python3.12/site-packages/pandas/core/internals/construction.py:677\u001b[0m, in \u001b[0;36m_extract_index\u001b[0;34m(data)\u001b[0m\n\u001b[1;32m    675\u001b[0m lengths \u001b[38;5;241m=\u001b[39m \u001b[38;5;28mlist\u001b[39m(\u001b[38;5;28mset\u001b[39m(raw_lengths))\n\u001b[1;32m    676\u001b[0m \u001b[38;5;28;01mif\u001b[39;00m \u001b[38;5;28mlen\u001b[39m(lengths) \u001b[38;5;241m>\u001b[39m \u001b[38;5;241m1\u001b[39m:\n\u001b[0;32m--> 677\u001b[0m     \u001b[38;5;28;01mraise\u001b[39;00m \u001b[38;5;167;01mValueError\u001b[39;00m(\u001b[38;5;124m\"\u001b[39m\u001b[38;5;124mAll arrays must be of the same length\u001b[39m\u001b[38;5;124m\"\u001b[39m)\n\u001b[1;32m    679\u001b[0m \u001b[38;5;28;01mif\u001b[39;00m have_dicts:\n\u001b[1;32m    680\u001b[0m     \u001b[38;5;28;01mraise\u001b[39;00m \u001b[38;5;167;01mValueError\u001b[39;00m(\n\u001b[1;32m    681\u001b[0m         \u001b[38;5;124m\"\u001b[39m\u001b[38;5;124mMixing dicts with non-Series may lead to ambiguous ordering.\u001b[39m\u001b[38;5;124m\"\u001b[39m\n\u001b[1;32m    682\u001b[0m     )\n",
      "\u001b[0;31mValueError\u001b[0m: All arrays must be of the same length"
     ]
    }
   ],
   "source": [
    "features = {\"features_gbc\": features_gbc, \"features_cbc\": features_cbc, \"features_lgbmc\": features_lgbmc,\n",
    "            \"features_xbgc\": features_xbgc}\n",
    "\n",
    "features = pd.DataFrame.from_dict(features, orient = 'columns')\n",
    "\n",
    "features.to_csv('../data/processed/2.EDA_features', index = False)"
   ]
  },
  {
   "cell_type": "code",
   "execution_count": 184,
   "metadata": {},
   "outputs": [
    {
     "ename": "AttributeError",
     "evalue": "'dict' object has no attribute 'to_csv'",
     "output_type": "error",
     "traceback": [
      "\u001b[0;31m---------------------------------------------------------------------------\u001b[0m",
      "\u001b[0;31mAttributeError\u001b[0m                            Traceback (most recent call last)",
      "Cell \u001b[0;32mIn[184], line 1\u001b[0m\n\u001b[0;32m----> 1\u001b[0m features\u001b[38;5;241m.\u001b[39mto_csv(\u001b[38;5;124m'\u001b[39m\u001b[38;5;124m../data/processed/2.EDA_features\u001b[39m\u001b[38;5;124m'\u001b[39m, index \u001b[38;5;241m=\u001b[39m \u001b[38;5;28;01mFalse\u001b[39;00m)\n",
      "\u001b[0;31mAttributeError\u001b[0m: 'dict' object has no attribute 'to_csv'"
     ]
    }
   ],
   "source": [
    "features.to_csv('../data/processed/2.EDA_features', index = False)"
   ]
  },
  {
   "cell_type": "code",
   "execution_count": null,
   "metadata": {},
   "outputs": [],
   "source": [
    "df.to_csv('../data/processed/2.EDA_train_features_gbc.csv', index = False)\n",
    "df.to_csv('../data/processed/2.EDA_train_x_data_cbc.csv', index = False)\n",
    "df.to_csv('../data/processed/2.EDA_train_x_data_lgbm.csv', index = False)\n",
    "df.to_csv('../data/processed/2.EDA_train_x_data_xbgc.csv', index = False)\n",
    "df.to_csv('../data/processed/2.EDA_train_y_data.csv', index = False)\n",
    "\n",
    "df_test.to_csv('../data/processed/1.Data_Cleaning_test.csv', index = False)"
   ]
  }
 ],
 "metadata": {
  "colab": {
   "authorship_tag": "ABX9TyM0nk59703bkMgIU1R86ejq",
   "provenance": []
  },
  "kernelspec": {
   "display_name": "Python [conda env:base] *",
   "language": "python",
   "name": "conda-base-py"
  },
  "language_info": {
   "codemirror_mode": {
    "name": "ipython",
    "version": 3
   },
   "file_extension": ".py",
   "mimetype": "text/x-python",
   "name": "python",
   "nbconvert_exporter": "python",
   "pygments_lexer": "ipython3",
   "version": "3.12.8"
  }
 },
 "nbformat": 4,
 "nbformat_minor": 4
}
