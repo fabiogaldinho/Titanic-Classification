{
 "cells": [
  {
   "cell_type": "code",
   "execution_count": 5,
   "metadata": {},
   "outputs": [],
   "source": [
    "import pandas as pd\n",
    "import numpy as np\n",
    "import matplotlib.pyplot as plt\n",
    "import seaborn as sns"
   ]
  },
  {
   "cell_type": "markdown",
   "metadata": {
    "jp-MarkdownHeadingCollapsed": true
   },
   "source": [
    "# **FUNCTIONS**"
   ]
  },
  {
   "cell_type": "markdown",
   "metadata": {
    "jp-MarkdownHeadingCollapsed": true
   },
   "source": [
    "## **Scatter Plot**"
   ]
  },
  {
   "cell_type": "code",
   "execution_count": null,
   "metadata": {},
   "outputs": [],
   "source": [
    "def PlotScatter(x, y, title, xunit, yunit, format_x, x_size):\n",
    "    plt.figure().patch.set_facecolor(\"0.85\")\n",
    "    plt.axes().set(facecolor = \"0.85\")\n",
    "\n",
    "    plt.title(title)\n",
    "    plt.scatter(x, y, alpha=0.7)\n",
    "\n",
    "    plt.grid(False)\n",
    "    plt.gca().spines['bottom'].set_visible(True)\n",
    "    plt.gca().spines['left'].set_visible(True)\n",
    "    plt.gca().spines['top'].set_visible(False)\n",
    "    plt.gca().spines['right'].set_visible(False)\n",
    "    plt.gca().spines['bottom'].set_color(\"black\")\n",
    "    plt.gca().spines['left'].set_color(\"black\")\n",
    "\n",
    "    plt.gca().set_xlabel(xunit, fontsize = 10)\n",
    "    plt.gca().xaxis.set_label_coords(1.05, -0.025)\n",
    "    plt.gca().set_ylabel(yunit, fontsize = 10)\n",
    "    plt.gca().yaxis.set_label_coords(-0.16, .98)\n",
    "\n",
    "    plt.gca().set_yticklabels(['{:,.0f}'.format(x) for x in plt.gca().get_yticks()])\n",
    "\n",
    "    if (format_x == 1):\n",
    "        plt.gca().set_xticklabels(['{:,.0f}'.format(x) for x in plt.gca().get_xticks()])\n",
    "\n",
    "    if (x_size == 0):\n",
    "        plt.gcf().set_size_inches(6, 5)\n",
    "    else:\n",
    "        plt.gcf().set_size_inches(x_size, 5)\n",
    "    plt.show()\n",
    "    plt.close()"
   ]
  },
  {
   "cell_type": "markdown",
   "metadata": {
    "jp-MarkdownHeadingCollapsed": true
   },
   "source": [
    "## **Box Plot**"
   ]
  },
  {
   "cell_type": "code",
   "execution_count": null,
   "metadata": {},
   "outputs": [],
   "source": [
    "def PlotBoxPlot(df_x, df_y, title, yunit):\n",
    "    plt.figure(figsize=(6, 5))\n",
    "    plt.figure().patch.set_facecolor(\"0.85\")\n",
    "    plt.axes().set(facecolor = \"0.85\")\n",
    "\n",
    "    plt.title(title)\n",
    "    sns.boxplot(x = df_x, y = df_y, palette = \"mako\")\n",
    "\n",
    "    plt.grid(False)\n",
    "    plt.gca().spines['bottom'].set_visible(True)\n",
    "    plt.gca().spines['left'].set_visible(True)\n",
    "    plt.gca().spines['top'].set_visible(False)\n",
    "    plt.gca().spines['right'].set_visible(False)\n",
    "    plt.gca().spines['bottom'].set_color(\"black\")\n",
    "    plt.gca().spines['left'].set_color(\"black\")\n",
    "\n",
    "    plt.gca().set_ylabel(yunit, fontsize = 10)\n",
    "    plt.gca().yaxis.set_label_coords(-0.16, .98)\n",
    "\n",
    "    plt.gca().set_xlabel(\"\", fontsize = 1)\n",
    "\n",
    "    plt.gca().set_yticklabels(['{:,.0f}'.format(x) for x in plt.gca().get_yticks()])\n",
    "\n",
    "    plt.show()\n",
    "    plt.close()"
   ]
  },
  {
   "cell_type": "code",
   "execution_count": null,
   "metadata": {},
   "outputs": [],
   "source": [
    "def PlotBoxPlotV2(df_x, df_y, title, yunit, size_x, size_y):\n",
    "    plt.figure().patch.set_facecolor(\"0.85\")\n",
    "    plt.axes().set(facecolor = \"0.85\")\n",
    "\n",
    "    plt.title(title)\n",
    "    sns.boxplot(x = df_x, y = df_y, palette = \"mako\")\n",
    "\n",
    "    plt.grid(False)\n",
    "    plt.gca().spines['bottom'].set_visible(True)\n",
    "    plt.gca().spines['left'].set_visible(True)\n",
    "    plt.gca().spines['top'].set_visible(False)\n",
    "    plt.gca().spines['right'].set_visible(False)\n",
    "    plt.gca().spines['bottom'].set_color(\"black\")\n",
    "    plt.gca().spines['left'].set_color(\"black\")\n",
    "\n",
    "    plt.gca().set_ylabel(yunit, fontsize = 10)\n",
    "    plt.gca().yaxis.set_label_coords(-0.16, .98)\n",
    "\n",
    "    plt.gca().set_xlabel(\"\", fontsize = 1)\n",
    "\n",
    "    plt.gca().set_yticklabels(['{:,.0f}'.format(x) for x in plt.gca().get_yticks()])\n",
    "\n",
    "    plt.gcf().set_size_inches(size_x, size_y)\n",
    "\n",
    "    plt.show()\n",
    "    plt.close()"
   ]
  },
  {
   "cell_type": "markdown",
   "metadata": {
    "jp-MarkdownHeadingCollapsed": true
   },
   "source": [
    "## **Regression Plot**"
   ]
  },
  {
   "cell_type": "code",
   "execution_count": null,
   "metadata": {},
   "outputs": [],
   "source": [
    "def PlotRegPlot(df_x, df_y, title, xunit, yunit):\n",
    "    plt.figure(figsize=(6, 5))\n",
    "    plt.figure().patch.set_facecolor(\"0.85\")\n",
    "    plt.axes().set(facecolor = \"0.85\")\n",
    "\n",
    "    plt.title(title)\n",
    "    sns.regplot(x = df_x, y = df_y, line_kws={\"color\": \"#31273F\"})\n",
    "\n",
    "    plt.grid(False)\n",
    "    plt.gca().spines['bottom'].set_visible(True)\n",
    "    plt.gca().spines['left'].set_visible(True)\n",
    "    plt.gca().spines['top'].set_visible(False)\n",
    "    plt.gca().spines['right'].set_visible(False)\n",
    "    plt.gca().spines['bottom'].set_color(\"black\")\n",
    "    plt.gca().spines['left'].set_color(\"black\")\n",
    "\n",
    "    plt.gca().set_ylabel(yunit, fontsize = 10)\n",
    "    plt.gca().yaxis.set_label_coords(-0.16, .98)\n",
    "\n",
    "    plt.gca().set_xlabel(xunit, fontsize = 10)\n",
    "    plt.gca().xaxis.set_label_coords(1.05, -0.025)\n",
    "\n",
    "    plt.gca().set_yticklabels(['{:,.0f}'.format(x) for x in plt.gca().get_yticks()])\n",
    "    plt.gca().set_xticklabels(['{:,.0f}'.format(x) for x in plt.gca().get_xticks()])\n",
    "\n",
    "    plt.show()\n",
    "    plt.close()"
   ]
  },
  {
   "cell_type": "markdown",
   "metadata": {
    "jp-MarkdownHeadingCollapsed": true
   },
   "source": [
    "## **Histogram**"
   ]
  },
  {
   "cell_type": "code",
   "execution_count": null,
   "metadata": {},
   "outputs": [],
   "source": [
    "def HistPlot(x, title, xunit, x_size):\n",
    "    plt.figure().patch.set_facecolor(\"0.85\")\n",
    "    plt.axes().set(facecolor = \"0.85\")\n",
    "\n",
    "    plt.title(title)\n",
    "    sns.histplot(x = x)\n",
    "\n",
    "    plt.grid(False)\n",
    "    plt.gca().spines['bottom'].set_visible(True)\n",
    "    plt.gca().spines['left'].set_visible(True)\n",
    "    plt.gca().spines['top'].set_visible(False)\n",
    "    plt.gca().spines['right'].set_visible(False)\n",
    "    plt.gca().spines['bottom'].set_color(\"black\")\n",
    "    plt.gca().spines['left'].set_color(\"black\")\n",
    "\n",
    "    plt.gca().set_xlabel(xunit, fontsize = 10)\n",
    "    plt.gca().xaxis.set_label_coords(0.98, -0.08)\n",
    "\n",
    "    plt.ylabel(\"Count\")\n",
    "\n",
    "    if (x_size == 0):\n",
    "        plt.gcf().set_size_inches(6, 5)\n",
    "    else:\n",
    "        plt.gcf().set_size_inches(x_size, 5)\n",
    "\n",
    "    plt.show()\n",
    "    plt.close()"
   ]
  },
  {
   "cell_type": "markdown",
   "metadata": {
    "jp-MarkdownHeadingCollapsed": true
   },
   "source": [
    "## **Predicted vs Actual Values**"
   ]
  },
  {
   "cell_type": "code",
   "execution_count": null,
   "metadata": {},
   "outputs": [],
   "source": [
    "def PlotFitted(y_test, yhat, title):\n",
    "    plt.figure().patch.set_facecolor(\"0.85\")\n",
    "    plt.axes().set(facecolor = \"0.85\")\n",
    "    \n",
    "    plt.title(title)\n",
    "\n",
    "    y_test1 = np.exp(y_test)\n",
    "    yhat1 = np.exp(yhat)\n",
    "\n",
    "    sns.scatterplot(x=y_test1.to_numpy().flatten(), y=yhat1, alpha=0.6)\n",
    "    plt.plot([y_test1.min(), y_test1.max()], [y_test1.min(), y_test1.max()], 'r--')\n",
    "\n",
    "    plt.grid(False)\n",
    "    plt.gca().spines['bottom'].set_visible(True)\n",
    "    plt.gca().spines['left'].set_visible(True)\n",
    "    plt.gca().spines['top'].set_visible(False)\n",
    "    plt.gca().spines['right'].set_visible(False)\n",
    "    plt.gca().spines['bottom'].set_color(\"black\")\n",
    "    plt.gca().spines['left'].set_color(\"black\")\n",
    "    \n",
    "    plt.xlabel(\"Actual Values\")\n",
    "    plt.ylabel(\"Predicted Values\")\n",
    "\n",
    "    plt.gcf().set_size_inches(7, 5)\n",
    "\n",
    "    plt.ylim(0,)\n",
    "    plt.xlim(0,)\n",
    "    \n",
    "    plt.show()\n",
    "    plt.close()\n",
    "    \n",
    "    \n",
    "    print(\"\\n- Mean Squared Error:\", mean_squared_error(y_test, yhat))\n",
    "    print(\"- Root Mean Squared Error:\", root_mean_squared_error(y_test, yhat))"
   ]
  },
  {
   "cell_type": "code",
   "execution_count": null,
   "metadata": {},
   "outputs": [],
   "source": [
    "def PlotFittedV(yhat, y_test, model, x_data, y_data, title, xlabel):\n",
    "    plt.figure().patch.set_facecolor(\"0.85\")\n",
    "    plt.axes().set(facecolor = \"0.85\")\n",
    "\n",
    "    plt.title(title)\n",
    "\n",
    "    ax2 = sns.distplot(y_test, hist=False, color=\"r\", label = \"Actual Value\")\n",
    "    sns.distplot(yhat, hist=False, color=\"b\", label=\"Predicted Value\", ax = ax2)\n",
    "\n",
    "    plt.grid(False)\n",
    "    plt.gca().spines['bottom'].set_visible(True)\n",
    "    plt.gca().spines['left'].set_visible(True)\n",
    "    plt.gca().spines['top'].set_visible(False)\n",
    "    plt.gca().spines['right'].set_visible(False)\n",
    "    plt.gca().spines['bottom'].set_color(\"black\")\n",
    "    plt.gca().spines['left'].set_color(\"black\")\n",
    "\n",
    "    plt.ylabel(\"Density\")\n",
    "    plt.xlabel(xlabel)\n",
    "    plt.legend(['Actual Value', 'Predicted Value'], framealpha=0)\n",
    "\n",
    "    plt.gcf().set_size_inches(7, 5)\n",
    "\n",
    "    plt.show()\n",
    "    plt.close()\n",
    "\n",
    "    print(\"\\n- Mean Squared Error:\", mean_squared_error(y_test, yhat))\n",
    "    print(\"- Root Mean Squared Error:\", root_mean_squared_error(y_test, yhat))\n",
    "    print(\"- Cross-Validation Score:\", cross_val_score(model, x_data, y_data, cv=5).mean())"
   ]
  },
  {
   "cell_type": "code",
   "execution_count": null,
   "metadata": {},
   "outputs": [],
   "source": [
    "def PlotFittedV2(yhat, y_test, title, xlabel):\n",
    "    plt.figure().patch.set_facecolor(\"0.85\")\n",
    "    plt.axes().set(facecolor = \"0.85\")\n",
    "\n",
    "    plt.title(title)\n",
    "\n",
    "    ax2 = sns.distplot(np.exp(y_test), hist=False, color=\"r\", label = \"Actual Value\")\n",
    "    sns.distplot(np.exp(yhat), hist=False, color=\"b\", label=\"Predicted Value\", ax = ax2)\n",
    "\n",
    "    plt.grid(False)\n",
    "    plt.gca().spines['bottom'].set_visible(True)\n",
    "    plt.gca().spines['left'].set_visible(True)\n",
    "    plt.gca().spines['top'].set_visible(False)\n",
    "    plt.gca().spines['right'].set_visible(False)\n",
    "    plt.gca().spines['bottom'].set_color(\"black\")\n",
    "    plt.gca().spines['left'].set_color(\"black\")\n",
    "\n",
    "    plt.ylabel(\"Density\")\n",
    "    plt.xlabel(xlabel)\n",
    "    plt.legend(['Actual Value', 'Predicted Value'], framealpha=0)\n",
    "\n",
    "    plt.gcf().set_size_inches(7, 5)\n",
    "\n",
    "    plt.show()\n",
    "    plt.close()\n",
    "\n",
    "    print(\"\\n- Mean Squared Error:\", mean_squared_error(y_test, yhat))\n",
    "    print(\"- Root Mean Squared Error:\", root_mean_squared_error(y_test, yhat))"
   ]
  },
  {
   "cell_type": "markdown",
   "metadata": {
    "jp-MarkdownHeadingCollapsed": true
   },
   "source": [
    "## **Line Plot**"
   ]
  },
  {
   "cell_type": "code",
   "execution_count": null,
   "metadata": {},
   "outputs": [],
   "source": [
    "def PlotLine(y, title, yunit, x_size, y_size):\n",
    "  plt.figure().patch.set_facecolor(\"0.85\")\n",
    "  plt.axes().set(facecolor = \"0.85\")\n",
    "\n",
    "  plt.title(title)\n",
    "  plt.plot(y)\n",
    "\n",
    "  plt.grid(False)\n",
    "  plt.gca().spines['bottom'].set_visible(True)\n",
    "  plt.gca().spines['left'].set_visible(True)\n",
    "  plt.gca().spines['top'].set_visible(False)\n",
    "  plt.gca().spines['right'].set_visible(False)\n",
    "  plt.gca().spines['bottom'].set_color(\"black\")\n",
    "  plt.gca().spines['left'].set_color(\"black\")\n",
    "\n",
    "  plt.gca().set_xlabel(\"\", fontsize = 0)\n",
    "  #plt.gca().xaxis.set_label_coords(1.05, -0.025)\n",
    "  plt.gca().set_ylabel(yunit, fontsize = 10)\n",
    "  plt.gca().yaxis.set_label_coords(-0.16, .98)\n",
    "\n",
    "  plt.gca().set_yticklabels(['{:,.0f}'.format(x) for x in plt.gca().get_yticks()])\n",
    "\n",
    "  plt.gcf().set_size_inches(x_size, y_size)\n",
    "\n",
    "  plt.show()\n",
    "  plt.close()"
   ]
  },
  {
   "cell_type": "markdown",
   "metadata": {
    "jp-MarkdownHeadingCollapsed": true
   },
   "source": [
    "## **K-Fold Target Encoding**"
   ]
  },
  {
   "cell_type": "code",
   "execution_count": null,
   "metadata": {},
   "outputs": [],
   "source": [
    "def KFTE(df, df_test, categ_f, target):\n",
    "  kf = KFold(n_splits = 5, shuffle = True, random_state = 13)\n",
    "\n",
    "  nome = categ_f + \"_E\"\n",
    "\n",
    "  df[nome] = 0.0\n",
    "\n",
    "  for train_idx, val_idx in kf.split(df):\n",
    "      fold_train = df.iloc[train_idx]\n",
    "      fold_valid  = df.iloc[val_idx]\n",
    "\n",
    "      medias_feature = fold_train.groupby(categ_f)[target].mean()\n",
    "      media_global = fold_train[target].mean()\n",
    "\n",
    "      feature_encoded = fold_valid[categ_f].map(medias_feature).fillna(media_global)\n",
    "      df.loc[val_idx, nome] = feature_encoded\n",
    "\n",
    "  mapping = df.groupby(categ_f)[target].mean().to_dict()\n",
    "  global_mean = df[target].mean()\n",
    "\n",
    "  df_test[categ_f] = df_test[categ_f].map(mapping).fillna(global_mean)"
   ]
  },
  {
   "cell_type": "markdown",
   "metadata": {},
   "source": [
    "# **DATASET LOADING**"
   ]
  },
  {
   "cell_type": "code",
   "execution_count": 7,
   "metadata": {},
   "outputs": [
    {
     "data": {
      "text/html": [
       "<div>\n",
       "<style scoped>\n",
       "    .dataframe tbody tr th:only-of-type {\n",
       "        vertical-align: middle;\n",
       "    }\n",
       "\n",
       "    .dataframe tbody tr th {\n",
       "        vertical-align: top;\n",
       "    }\n",
       "\n",
       "    .dataframe thead th {\n",
       "        text-align: right;\n",
       "    }\n",
       "</style>\n",
       "<table border=\"1\" class=\"dataframe\">\n",
       "  <thead>\n",
       "    <tr style=\"text-align: right;\">\n",
       "      <th></th>\n",
       "      <th>PassengerId</th>\n",
       "      <th>Survived</th>\n",
       "      <th>Pclass</th>\n",
       "      <th>Name</th>\n",
       "      <th>Sex</th>\n",
       "      <th>Age</th>\n",
       "      <th>SibSp</th>\n",
       "      <th>Parch</th>\n",
       "      <th>Ticket</th>\n",
       "      <th>Fare</th>\n",
       "      <th>Cabin</th>\n",
       "      <th>Embarked</th>\n",
       "    </tr>\n",
       "  </thead>\n",
       "  <tbody>\n",
       "    <tr>\n",
       "      <th>0</th>\n",
       "      <td>1</td>\n",
       "      <td>0</td>\n",
       "      <td>3</td>\n",
       "      <td>Braund, Mr. Owen Harris</td>\n",
       "      <td>male</td>\n",
       "      <td>22.0</td>\n",
       "      <td>1</td>\n",
       "      <td>0</td>\n",
       "      <td>A/5 21171</td>\n",
       "      <td>7.2500</td>\n",
       "      <td>NaN</td>\n",
       "      <td>S</td>\n",
       "    </tr>\n",
       "    <tr>\n",
       "      <th>1</th>\n",
       "      <td>2</td>\n",
       "      <td>1</td>\n",
       "      <td>1</td>\n",
       "      <td>Cumings, Mrs. John Bradley (Florence Briggs Th...</td>\n",
       "      <td>female</td>\n",
       "      <td>38.0</td>\n",
       "      <td>1</td>\n",
       "      <td>0</td>\n",
       "      <td>PC 17599</td>\n",
       "      <td>71.2833</td>\n",
       "      <td>C85</td>\n",
       "      <td>C</td>\n",
       "    </tr>\n",
       "    <tr>\n",
       "      <th>2</th>\n",
       "      <td>3</td>\n",
       "      <td>1</td>\n",
       "      <td>3</td>\n",
       "      <td>Heikkinen, Miss. Laina</td>\n",
       "      <td>female</td>\n",
       "      <td>26.0</td>\n",
       "      <td>0</td>\n",
       "      <td>0</td>\n",
       "      <td>STON/O2. 3101282</td>\n",
       "      <td>7.9250</td>\n",
       "      <td>NaN</td>\n",
       "      <td>S</td>\n",
       "    </tr>\n",
       "    <tr>\n",
       "      <th>3</th>\n",
       "      <td>4</td>\n",
       "      <td>1</td>\n",
       "      <td>1</td>\n",
       "      <td>Futrelle, Mrs. Jacques Heath (Lily May Peel)</td>\n",
       "      <td>female</td>\n",
       "      <td>35.0</td>\n",
       "      <td>1</td>\n",
       "      <td>0</td>\n",
       "      <td>113803</td>\n",
       "      <td>53.1000</td>\n",
       "      <td>C123</td>\n",
       "      <td>S</td>\n",
       "    </tr>\n",
       "    <tr>\n",
       "      <th>4</th>\n",
       "      <td>5</td>\n",
       "      <td>0</td>\n",
       "      <td>3</td>\n",
       "      <td>Allen, Mr. William Henry</td>\n",
       "      <td>male</td>\n",
       "      <td>35.0</td>\n",
       "      <td>0</td>\n",
       "      <td>0</td>\n",
       "      <td>373450</td>\n",
       "      <td>8.0500</td>\n",
       "      <td>NaN</td>\n",
       "      <td>S</td>\n",
       "    </tr>\n",
       "  </tbody>\n",
       "</table>\n",
       "</div>"
      ],
      "text/plain": [
       "   PassengerId  Survived  Pclass  \\\n",
       "0            1         0       3   \n",
       "1            2         1       1   \n",
       "2            3         1       3   \n",
       "3            4         1       1   \n",
       "4            5         0       3   \n",
       "\n",
       "                                                Name     Sex   Age  SibSp  \\\n",
       "0                            Braund, Mr. Owen Harris    male  22.0      1   \n",
       "1  Cumings, Mrs. John Bradley (Florence Briggs Th...  female  38.0      1   \n",
       "2                             Heikkinen, Miss. Laina  female  26.0      0   \n",
       "3       Futrelle, Mrs. Jacques Heath (Lily May Peel)  female  35.0      1   \n",
       "4                           Allen, Mr. William Henry    male  35.0      0   \n",
       "\n",
       "   Parch            Ticket     Fare Cabin Embarked  \n",
       "0      0         A/5 21171   7.2500   NaN        S  \n",
       "1      0          PC 17599  71.2833   C85        C  \n",
       "2      0  STON/O2. 3101282   7.9250   NaN        S  \n",
       "3      0            113803  53.1000  C123        S  \n",
       "4      0            373450   8.0500   NaN        S  "
      ]
     },
     "execution_count": 7,
     "metadata": {},
     "output_type": "execute_result"
    }
   ],
   "source": [
    "df = pd.read_csv(\"../data/raw/train.csv\")\n",
    "df_test = pd.read_csv(\"../data/raw/test.csv\")\n",
    "df.head()"
   ]
  },
  {
   "cell_type": "markdown",
   "metadata": {},
   "source": [
    "# **DATA CLEANING, PROCESSING, AND CONSOLIDATION**"
   ]
  },
  {
   "cell_type": "markdown",
   "metadata": {},
   "source": [
    "## **DEALING WITH MISSING DATA**"
   ]
  },
  {
   "cell_type": "code",
   "execution_count": null,
   "metadata": {},
   "outputs": [],
   "source": []
  },
  {
   "cell_type": "markdown",
   "metadata": {},
   "source": [
    "## **OUTLIERS**"
   ]
  },
  {
   "cell_type": "code",
   "execution_count": null,
   "metadata": {},
   "outputs": [],
   "source": []
  },
  {
   "cell_type": "markdown",
   "metadata": {},
   "source": [
    "# **EXPLORATORY DATA ANALYSIS**"
   ]
  },
  {
   "cell_type": "markdown",
   "metadata": {},
   "source": [
    "## **ENCODING AND CORRELATION ANALYSIS**"
   ]
  },
  {
   "cell_type": "code",
   "execution_count": null,
   "metadata": {},
   "outputs": [],
   "source": []
  },
  {
   "cell_type": "markdown",
   "metadata": {},
   "source": [
    "## **FEATURE ENGINEERING**"
   ]
  },
  {
   "cell_type": "code",
   "execution_count": null,
   "metadata": {},
   "outputs": [],
   "source": []
  },
  {
   "cell_type": "markdown",
   "metadata": {},
   "source": [
    "## **TARGET VARIABLE ANALYSIS**"
   ]
  },
  {
   "cell_type": "code",
   "execution_count": null,
   "metadata": {},
   "outputs": [],
   "source": []
  },
  {
   "cell_type": "markdown",
   "metadata": {},
   "source": [
    "## **NORMALIZATION**"
   ]
  },
  {
   "cell_type": "code",
   "execution_count": null,
   "metadata": {},
   "outputs": [],
   "source": []
  },
  {
   "cell_type": "markdown",
   "metadata": {},
   "source": [
    "## **CORRELATION**"
   ]
  },
  {
   "cell_type": "code",
   "execution_count": null,
   "metadata": {},
   "outputs": [],
   "source": []
  },
  {
   "cell_type": "markdown",
   "metadata": {},
   "source": [
    "# **MODEL DEVELOPMENT AND EVALUATION**"
   ]
  },
  {
   "cell_type": "code",
   "execution_count": null,
   "metadata": {},
   "outputs": [],
   "source": []
  }
 ],
 "metadata": {
  "colab": {
   "authorship_tag": "ABX9TyM0nk59703bkMgIU1R86ejq",
   "provenance": []
  },
  "kernelspec": {
   "display_name": "Python [conda env:base] *",
   "language": "python",
   "name": "conda-base-py"
  },
  "language_info": {
   "codemirror_mode": {
    "name": "ipython",
    "version": 3
   },
   "file_extension": ".py",
   "mimetype": "text/x-python",
   "name": "python",
   "nbconvert_exporter": "python",
   "pygments_lexer": "ipython3",
   "version": "3.12.8"
  }
 },
 "nbformat": 4,
 "nbformat_minor": 4
}
